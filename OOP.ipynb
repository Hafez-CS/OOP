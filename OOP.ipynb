{
 "cells": [
  {
   "cell_type": "markdown",
   "metadata": {},
   "source": [
    "### Introduction"
   ]
  },
  {
   "cell_type": "code",
   "execution_count": 4,
   "metadata": {},
   "outputs": [
    {
     "name": "stdout",
     "output_type": "stream",
     "text": [
      "emp 1 : <__main__.emplo object at 0x000002AD1A26C210>\n",
      "emp 2 : <__main__.emplo object at 0x000002AD1A27EE90>\n"
     ]
    }
   ],
   "source": [
    "class emplo:\n",
    "    pass\n",
    "\n",
    "emp1 = emplo()\n",
    "emp2 = emplo()\n",
    "\n",
    "print(\"emp 1 :\", emp1)\n",
    "print(\"emp 2 :\", emp2)"
   ]
  },
  {
   "cell_type": "code",
   "execution_count": 6,
   "metadata": {},
   "outputs": [
    {
     "name": "stdout",
     "output_type": "stream",
     "text": [
      "emp 1 : 123454\n",
      "emp 2 : ali\n"
     ]
    }
   ],
   "source": [
    "# Improve the class\n",
    "\n",
    "class emplo:\n",
    "    pass\n",
    "\n",
    "emp1 = emplo()\n",
    "emp2 = emplo()\n",
    "\n",
    "emp1.firstname = \"Hamid\"\n",
    "emp1.familyname = \"daneshjo\"\n",
    "emp1.phone = 123454\n",
    "\n",
    "emp2.firstname = \"ali\"\n",
    "emp2.familyname = \"safari\"\n",
    "emp2.phone = 54321\n",
    "\n",
    "print(\"emp 1 :\", emp1.phone)\n",
    "print(\"emp 2 :\", emp2.firstname)"
   ]
  },
  {
   "cell_type": "code",
   "execution_count": 7,
   "metadata": {},
   "outputs": [
    {
     "name": "stdout",
     "output_type": "stream",
     "text": [
      "emp 1 : 123454\n",
      "emp 2 : ali\n"
     ]
    }
   ],
   "source": [
    "# Improve the class\n",
    "\n",
    "class emplo:\n",
    "    def __init__(self, firstname, familyname, phone):\n",
    "        self.firstname = firstname  # it's looks like this : emp1.firstname = firstname\n",
    "        self.familyname = familyname\n",
    "        self.phone = phone\n",
    "\n",
    "\n",
    "emp1 = emplo(\"Hamid\" , \"daneshjo\", 123454) #  it's looks like this : emp1.firstname = \"Hamid\"\n",
    "emp2 = emplo(\"ali\", \"safari\", 54321)\n",
    "\n",
    "\n",
    "print(\"emp 1 :\", emp1.phone)\n",
    "print(\"emp 2 :\", emp2.firstname)"
   ]
  },
  {
   "cell_type": "code",
   "execution_count": 11,
   "metadata": {},
   "outputs": [
    {
     "name": "stdout",
     "output_type": "stream",
     "text": [
      "emp 1 : Hamid daneshjo\n",
      "emp 2 : ali safari\n",
      "emp 1 : Hamid daneshjo\n",
      "emp 2 : ali safari\n"
     ]
    }
   ],
   "source": [
    "# Improve the class\n",
    "\n",
    "class emplo:\n",
    "    def __init__(self, firstname, familyname, phone):\n",
    "        self.firstname = firstname  # it's looks like this : emp1.firstname = firstname\n",
    "        self.familyname = familyname\n",
    "        self.phone = phone\n",
    "    def fullname(self):\n",
    "        return '{} {}'.format(self.firstname, self.familyname)\n",
    "\n",
    "\n",
    "\n",
    "emp1 = emplo(\"Hamid\" , \"daneshjo\", 123454) #  it's looks like this : emp1.firstname = \"Hamid\"\n",
    "emp2 = emplo(\"ali\", \"safari\", 54321)\n",
    "\n",
    "\n",
    "\n",
    "print(\"emp 1 :\", emp1.fullname())\n",
    "print(\"emp 2 :\", emp2.fullname())\n",
    "\n",
    "# or \n",
    "\n",
    "print(\"emp 1 :\", emplo.fullname(emp1))\n",
    "print(\"emp 2 :\", emplo.fullname(emp2))\n"
   ]
  },
  {
   "cell_type": "markdown",
   "metadata": {},
   "source": [
    "### OOP part 1"
   ]
  },
  {
   "cell_type": "code",
   "execution_count": 26,
   "metadata": {},
   "outputs": [
    {
     "name": "stdout",
     "output_type": "stream",
     "text": [
      "emp 1 : 3000\n",
      "emp 2 : ali safari\n"
     ]
    }
   ],
   "source": [
    "class emplo:\n",
    "    def __init__(self, firstname, familyname, phone, pay):\n",
    "        self.firstname = firstname\n",
    "        self.familyname = familyname\n",
    "        self.phone = phone\n",
    "        self.pay = pay\n",
    "    def fullname(self):\n",
    "        return '{} {}'.format(self.firstname, self.familyname)\n",
    "    def payin(self):\n",
    "        self.pay += int(self.pay * 2)\n",
    "        return self.pay\n",
    "\n",
    "\n",
    "\n",
    "emp1 = emplo(\"Hamid\" , \"daneshjo\", 123454, 1000)\n",
    "emp2 = emplo(\"ali\", \"safari\", 54321, 2500)\n",
    "\n",
    "\n",
    "\n",
    "print(\"emp 1 :\", emp1.payin())\n",
    "print(\"emp 2 :\", emp2.fullname())"
   ]
  },
  {
   "cell_type": "code",
   "execution_count": 3,
   "metadata": {},
   "outputs": [
    {
     "name": "stdout",
     "output_type": "stream",
     "text": [
      "pay_ra emp1: 2\n",
      "pay_ra emp2: 2\n",
      "emp 1 : 3000\n",
      "emp 2 : 6000\n"
     ]
    }
   ],
   "source": [
    "# Improve the class\n",
    "\n",
    "class emplo:\n",
    "    pay_ra = 2\n",
    "    def __init__(self, firstname, familyname, phone, pay):\n",
    "        self.firstname = firstname\n",
    "        self.familyname = familyname\n",
    "        self.phone = phone\n",
    "        self.pay = pay\n",
    "    def fullname(self):\n",
    "        return '{} {}'.format(self.firstname, self.familyname)\n",
    "    def payin(self):\n",
    "        self.pay += int(self.pay * self.pay_ra)\n",
    "        return self.pay\n",
    "\n",
    "\n",
    "\n",
    "emp1 = emplo(\"Hamid\" , \"daneshjo\", 123454, 1000)\n",
    "emp2 = emplo(\"ali\", \"safari\", 54321, 2000)\n",
    "\n",
    "\n",
    "print(\"pay_ra emp1:\", emp1.pay_ra)\n",
    "print(\"pay_ra emp2:\", emp2.pay_ra)\n",
    "print(\"emp 1 :\", emp1.payin())\n",
    "print(\"emp 2 :\", emp2.payin())"
   ]
  },
  {
   "cell_type": "code",
   "execution_count": 2,
   "metadata": {},
   "outputs": [
    {
     "name": "stdout",
     "output_type": "stream",
     "text": [
      "pay_ra : 2\n",
      "pay_ra emp1: 3\n",
      "pay_ra emp2: 2\n",
      "emp 1 : 4000\n",
      "emp 2 : 6000\n",
      "pay_ra : 2\n"
     ]
    }
   ],
   "source": [
    "# instance vs class varible (overwrite) - Improve the class\n",
    "\n",
    "class emplo:\n",
    "    pay_ra = 2 # this varible is in class not in instance\n",
    "    def __init__(self, firstname, familyname, phone, pay):\n",
    "        self.firstname = firstname\n",
    "        self.familyname = familyname\n",
    "        self.phone = phone\n",
    "        self.pay = pay\n",
    "    def fullname(self):\n",
    "        return '{} {}'.format(self.firstname, self.familyname)\n",
    "    def payin(self):\n",
    "        self.pay += int(self.pay * self.pay_ra)\n",
    "        return self.pay\n",
    "\n",
    "\n",
    "\n",
    "emp1 = emplo(\"Hamid\" , \"daneshjo\", 123454, 1000)\n",
    "emp2 = emplo(\"ali\", \"safari\", 54321, 2000)\n",
    "\n",
    "\n",
    "emp1.pay_ra = 3    # change just emp1 , that's mean we change varible in instance not in class\n",
    "print(\"pay_ra in class: :\", emplo.pay_ra)\n",
    "print(\"pay_ra emp1:\", emp1.pay_ra)\n",
    "print(\"pay_ra emp2:\", emp2.pay_ra)\n",
    "print(\"emp 1 :\", emp1.payin())\n",
    "print(\"emp 2 :\", emp2.payin())\n",
    "print(\"pay_ra in class: :\", emplo.pay_ra)"
   ]
  },
  {
   "cell_type": "code",
   "execution_count": 40,
   "metadata": {},
   "outputs": [
    {
     "name": "stdout",
     "output_type": "stream",
     "text": [
      "pay_ra emp1: 3\n",
      "pay_ra emp2: 2\n",
      "pay_ra in class: 2\n",
      "emp 1 : 3000\n",
      "emp 2 : 6000\n"
     ]
    }
   ],
   "source": [
    "# instance vs class varible (overwrite) - Improve the class\n",
    "\n",
    "class emplo:\n",
    "    pay_ra = 2\n",
    "    def __init__(self, firstname, familyname, phone, pay):\n",
    "        self.firstname = firstname\n",
    "        self.familyname = familyname\n",
    "        self.phone = phone\n",
    "        self.pay = pay\n",
    "    def fullname(self):\n",
    "        return '{} {}'.format(self.firstname, self.familyname)\n",
    "    def payin(self):\n",
    "        self.pay += int(self.pay * emplo.pay_ra) # 'emplo.pay_ra'  it's  'pay_ra' in class mean the 'pay_ra' is always 2\n",
    "        return self.pay \n",
    "\n",
    "\n",
    "\n",
    "emp1 = emplo(\"Hamid\" , \"daneshjo\", 123454, 1000)\n",
    "emp2 = emplo(\"ali\", \"safari\", 54321, 2000)\n",
    "\n",
    "\n",
    "emp1.pay_ra = 3    # change just emp1\n",
    "print(\"pay_ra emp1:\", emp1.pay_ra)\n",
    "print(\"pay_ra emp2:\", emp2.pay_ra)\n",
    "print(\"pay_ra in class:\", emplo.pay_ra)\n",
    "print(\"emp 1 :\", emp1.payin())\n",
    "print(\"emp 2 :\", emp2.payin())"
   ]
  },
  {
   "cell_type": "code",
   "execution_count": 43,
   "metadata": {},
   "outputs": [
    {
     "name": "stdout",
     "output_type": "stream",
     "text": [
      "pay_ra emp1: 3\n",
      "pay_ra emp2: 2\n",
      "pay_ra in class: 2\n",
      "emp 1 : 3000\n",
      "emp 2 : 6000\n",
      "\n",
      "\n",
      "{'__module__': '__main__', 'pay_ra': 2, '__init__': <function emplo.__init__ at 0x000002AD1B033A60>, 'fullname': <function emplo.fullname at 0x000002AD1B0322A0>, 'payin': <function emplo.payin at 0x000002AD1B0307C0>, '__dict__': <attribute '__dict__' of 'emplo' objects>, '__weakref__': <attribute '__weakref__' of 'emplo' objects>, '__doc__': None}\n",
      "{'firstname': 'Hamid', 'familyname': 'daneshjo', 'phone': 123454, 'pay': 3000, 'pay_ra': 3}\n",
      "{'firstname': 'ali', 'familyname': 'safari', 'phone': 54321, 'pay': 6000}\n"
     ]
    }
   ],
   "source": [
    "# magic code in def and class\n",
    "\n",
    "class emplo:\n",
    "    pay_ra = 2\n",
    "    def __init__(self, firstname, familyname, phone, pay):\n",
    "        self.firstname = firstname\n",
    "        self.familyname = familyname\n",
    "        self.phone = phone\n",
    "        self.pay = pay\n",
    "    def fullname(self):\n",
    "        return '{} {}'.format(self.firstname, self.familyname)\n",
    "    def payin(self):\n",
    "        self.pay += int(self.pay * emplo.pay_ra)\n",
    "        return self.pay \n",
    "\n",
    "\n",
    "\n",
    "emp1 = emplo(\"Hamid\" , \"daneshjo\", 123454, 1000)\n",
    "emp2 = emplo(\"ali\", \"safari\", 54321, 2000)\n",
    "\n",
    "\n",
    "emp1.pay_ra = 3\n",
    "print(\"pay_ra emp1:\", emp1.pay_ra)\n",
    "print(\"pay_ra emp2:\", emp2.pay_ra)\n",
    "print(\"pay_ra in class:\", emplo.pay_ra)\n",
    "print(\"emp 1 :\", emp1.payin())\n",
    "print(\"emp 2 :\", emp2.payin())\n",
    "\n",
    "print(\"\\n\")\n",
    "\n",
    "print(emplo.__dict__) # Let's see all variable and ...\n",
    "print(emp1.__dict__)  # Let's see all variable and ...\n",
    "print(emp2.__dict__)  # Let's see all variable and ..."
   ]
  },
  {
   "cell_type": "markdown",
   "metadata": {},
   "source": [
    "### OOP part 2"
   ]
  },
  {
   "cell_type": "code",
   "execution_count": null,
   "metadata": {},
   "outputs": [],
   "source": [
    "# some method in class\n",
    "\n",
    "class test:\n",
    "    def __init__(self): # we saw the 'self' object in part 1 , we can access to all object in this def(Object level access) , we can write like this : self.x\n",
    "        return \"I am a constructor\"\n",
    "    def isinstancemethod(self): # we saw the 'self' object in part 1 ,  we can access to all object in this def , but we can write : self.__class__.x  and we can access to all object in class 'test' (Class level access)\n",
    "        return \"I am an isinstancemethod\"\n",
    "    @classmethod\n",
    "    def classmethod(cls): # 'cls' just can access to all object in class 'test' (Class level access)\n",
    "        return \"I am a classmethod\"\n",
    "    @staticmethod\n",
    "    def staticmethod(): # it's like normal def\n",
    "        return \"I am a staticmethod\""
   ]
  },
  {
   "cell_type": "code",
   "execution_count": 4,
   "metadata": {},
   "outputs": [
    {
     "name": "stdout",
     "output_type": "stream",
     "text": [
      "hamid is 27\n",
      "ali is 32\n",
      "\n",
      "\n",
      "True\n",
      "True\n",
      "False\n"
     ]
    }
   ],
   "source": [
    "# classmethod & staticmethod\n",
    "\n",
    "from datetime import date\n",
    "\n",
    "class person:\n",
    "    def __init__(self, firstname, age):\n",
    "        self.name = firstname\n",
    "        self.age = age\n",
    "    @classmethod\n",
    "    def my_classmethod(cls, name, year):\n",
    "        return cls(name, date.today().year - year) # why we used this 'cls' : when we used this 'def' and 'cls' , we return name and age(age after calculations) to 'person' class again , and important thing is , we return 'age' and 'name' as a object. for good understanding we can write 'person' instead of 'cls'\n",
    "    @staticmethod\n",
    "    def is_adult(my_age):\n",
    "        return my_age > 18\n",
    "    \n",
    "\n",
    "person1 = person(\"hamid\", 27)\n",
    "print(person1.name , \"is\" , person1.age)\n",
    "\n",
    "person2 = person.my_classmethod(\"ali\",1993) # the my_classmethod function can calculations the age and return the name and age to 'person' class again\n",
    "print(person2.name , \"is\" , person2.age)\n",
    "\n",
    "print(\"\\n\")\n",
    "\n",
    "print(person1.is_adult(person1.age))\n",
    "print(person1.is_adult(person2.age))\n",
    "print(person1.is_adult(12))\n"
   ]
  },
  {
   "cell_type": "code",
   "execution_count": 16,
   "metadata": {},
   "outputs": [
    {
     "name": "stdout",
     "output_type": "stream",
     "text": [
      "pay_ra emp1: 3\n",
      "pay_ra emp2: 2\n",
      "pay_ra in class: 2\n",
      "\n",
      "\n",
      "pay_ra emp1: 3\n",
      "pay_ra emp2: 3\n",
      "pay_ra in class: 3\n",
      "\n",
      "\n",
      "pay_ra emp1: 3\n",
      "pay_ra emp2: 6\n",
      "pay_ra in class: 6\n"
     ]
    }
   ],
   "source": [
    "# new example\n",
    "\n",
    "class emplo:\n",
    "    pay_ra = 2\n",
    "    def __init__(self, firstname, familyname, phone, pay):\n",
    "        self.firstname = firstname\n",
    "        self.familyname = familyname\n",
    "        self.phone = phone\n",
    "        self.pay = pay\n",
    "    def fullname(self):\n",
    "        return '{} {}'.format(self.firstname, self.familyname)\n",
    "    def payin(self):\n",
    "        self.pay += int(self.pay * emplo.pay_ra)\n",
    "        return self.pay \n",
    "\n",
    "\n",
    "emp1 = emplo(\"Hamid\" , \"daneshjo\", 123454, 1000)\n",
    "emp2 = emplo(\"ali\", \"safari\", 54321, 2000)\n",
    "\n",
    "\n",
    "\n",
    "emp1.pay_ra = 3\n",
    "print(\"pay_ra emp1:\", emp1.pay_ra)\n",
    "print(\"pay_ra emp2:\", emp2.pay_ra)\n",
    "print(\"pay_ra in class:\", emplo.pay_ra)\n",
    "\n",
    "print(\"\\n\")\n",
    "\n",
    "emplo.pay_ra = 3\n",
    "print(\"pay_ra emp1:\", emp1.pay_ra)\n",
    "print(\"pay_ra emp2:\", emp2.pay_ra)\n",
    "print(\"pay_ra in class:\", emplo.pay_ra)\n",
    "\n",
    "print(\"\\n\")\n",
    "\n",
    "emp2.__class__.pay_ra = 6\n",
    "print(\"pay_ra emp1:\", emp1.pay_ra)\n",
    "print(\"pay_ra emp2:\", emp2.pay_ra)\n",
    "print(\"pay_ra in class:\", emplo.pay_ra)\n"
   ]
  },
  {
   "cell_type": "code",
   "execution_count": 8,
   "metadata": {},
   "outputs": [
    {
     "name": "stdout",
     "output_type": "stream",
     "text": [
      "pay_ra emp1: 7\n",
      "pay_ra emp2: 7\n",
      "pay_ra in class: 7\n"
     ]
    }
   ],
   "source": [
    "# improve example\n",
    "\n",
    "class emplo:\n",
    "    pay_ra = 2\n",
    "    def __init__(self, firstname, familyname, phone, pay):\n",
    "        self.firstname = firstname\n",
    "        self.familyname = familyname\n",
    "        self.phone = phone\n",
    "        self.pay = pay\n",
    "    def fullname(self):\n",
    "        return '{} {}'.format(self.firstname, self.familyname)\n",
    "    def payin(self):\n",
    "        self.pay += int(self.pay * emplo.pay_ra)\n",
    "        return self.pay \n",
    "    @classmethod\n",
    "    def setr(cls, amn):\n",
    "        cls.pay_ra = amn # it's like emplo.pay_ra = amn\n",
    "\n",
    "\n",
    "emp1 = emplo(\"Hamid\" , \"daneshjo\", 123454, 1000)\n",
    "emp2 = emplo(\"ali\", \"safari\", 54321, 2000)\n",
    "\n",
    "\n",
    "\n",
    "emplo.setr(7)\n",
    "print(\"pay_ra emp1:\", emp1.pay_ra)\n",
    "print(\"pay_ra emp2:\", emp2.pay_ra)\n",
    "print(\"pay_ra in class:\", emplo.pay_ra)"
   ]
  },
  {
   "cell_type": "code",
   "execution_count": 24,
   "metadata": {},
   "outputs": [
    {
     "name": "stdout",
     "output_type": "stream",
     "text": [
      "hamid\n",
      "hamid danehjoo\n"
     ]
    }
   ],
   "source": [
    "# improve example\n",
    "\n",
    "class emplo:\n",
    "    pay_ra = 2\n",
    "    def __init__(self, firstname, familyname, phone, pay):\n",
    "        self.firstname = firstname\n",
    "        self.familyname = familyname\n",
    "        self.phone = phone\n",
    "        self.pay = pay\n",
    "    def fullname(self):\n",
    "        return '{} {}'.format(self.firstname, self.familyname)\n",
    "    def payin(self):\n",
    "        self.pay += int(self.pay * emplo.pay_ra)\n",
    "        return self.pay \n",
    "    @classmethod\n",
    "    def setr(cls, amn):\n",
    "        cls.pay_ra = amn\n",
    "\n",
    "\n",
    "emp1 = emplo(\"Hamid\" , \"daneshjo\", 123454, 1000)\n",
    "emp2 = emplo(\"ali\", \"safari\", 54321, 2000)\n",
    "\n",
    "emp1_str = 'hamid-danehjoo-5000-6000'\n",
    "first , last, phone, pay = emp1_str.split('-')\n",
    "nemp1 = emplo(first, last, phone, pay)\n",
    "\n",
    "print(nemp1.firstname)\n",
    "print(nemp1.fullname())"
   ]
  },
  {
   "cell_type": "code",
   "execution_count": 25,
   "metadata": {},
   "outputs": [
    {
     "name": "stdout",
     "output_type": "stream",
     "text": [
      "hamid\n",
      "hamid danehjoo\n"
     ]
    }
   ],
   "source": [
    "# improve example\n",
    "\n",
    "class emplo:\n",
    "    pay_ra = 2\n",
    "    def __init__(self, firstname, familyname, phone, pay):\n",
    "        self.firstname = firstname\n",
    "        self.familyname = familyname\n",
    "        self.phone = phone\n",
    "        self.pay = pay\n",
    "    def fullname(self):\n",
    "        return '{} {}'.format(self.firstname, self.familyname)\n",
    "    def payin(self):\n",
    "        self.pay += int(self.pay * emplo.pay_ra)\n",
    "        return self.pay \n",
    "    @classmethod\n",
    "    def setr(cls, amn):\n",
    "        cls.pay_ra = amn\n",
    "    @classmethod\n",
    "    def fstremp(cls, emp_str):\n",
    "        first, last, phone, pay = emp_str.split('-')\n",
    "        return emplo(first, last, phone, pay)\n",
    "\n",
    "\n",
    "emp1 = emplo(\"Hamid\" , \"daneshjo\", 123454, 1000)\n",
    "emp2 = emplo(\"ali\", \"safari\", 54321, 2000)\n",
    "\n",
    "emp3 = 'hamid-danehjoo-5000-6000'\n",
    "nemp1 = emplo.fstremp(emp3)\n",
    "\n",
    "\n",
    "print(nemp1.firstname)\n",
    "print(nemp1.fullname())"
   ]
  },
  {
   "cell_type": "code",
   "execution_count": 19,
   "metadata": {},
   "outputs": [
    {
     "name": "stdout",
     "output_type": "stream",
     "text": [
      "True\n",
      "False\n"
     ]
    }
   ],
   "source": [
    "# improve example\n",
    "\n",
    "import datetime\n",
    "\n",
    "\n",
    "class emplo:\n",
    "    pay_ra = 2\n",
    "    def __init__(self, firstname, familyname, phone, pay):\n",
    "        self.firstname = firstname\n",
    "        self.familyname = familyname\n",
    "        self.phone = phone\n",
    "        self.pay = pay\n",
    "    def fullname(self):\n",
    "        return '{} {}'.format(self.firstname, self.familyname)\n",
    "    def payin(self):\n",
    "        self.pay += int(self.pay * emplo.pay_ra)\n",
    "        return self.pay \n",
    "    @classmethod\n",
    "    def setr(cls, amn):\n",
    "        cls.pay_ra = amn\n",
    "    @classmethod\n",
    "    def fstremp(cls, emp_str):\n",
    "        first, last, phone, pay = emp_str.split('-')\n",
    "        return emplo(first, last, phone, pay)\n",
    "    @staticmethod\n",
    "    def work(day):\n",
    "        if day.weekday() == 3 or day.weekday() == 4: # we want to know this day is work day , 3 and 4 are closed work day (weekend)\n",
    "            return False\n",
    "        else:\n",
    "            return True\n",
    "\n",
    "\n",
    "emp1 = emplo(\"Hamid\" , \"daneshjo\", 123454, 1000)\n",
    "emp2 = emplo(\"ali\", \"safari\", 54321, 2000)\n",
    "\n",
    "\n",
    "mdate = datetime.date(2020,2,10)\n",
    "print(emplo.work(mdate))\n",
    "\n",
    "mdate = datetime.date(2020,2,14)\n",
    "print(emplo.work(mdate))\n"
   ]
  },
  {
   "cell_type": "markdown",
   "metadata": {},
   "source": [
    "### Inheritance part 1"
   ]
  },
  {
   "attachments": {
    "11.jpg": {
     "image/jpeg": "[encoded data removed]"
    }
   },
   "cell_type": "markdown",
   "metadata": {},
   "source": [
    "![11.jpg](attachment:11.jpg)"
   ]
  },
  {
   "cell_type": "markdown",
   "metadata": {},
   "source": [
    "#### single inheritance"
   ]
  },
  {
   "cell_type": "code",
   "execution_count": 1,
   "metadata": {},
   "outputs": [
    {
     "name": "stdout",
     "output_type": "stream",
     "text": [
      "this feature belongs father\n",
      "this feature belongs child\n"
     ]
    }
   ],
   "source": [
    "# single inheritance\n",
    "\n",
    "class father:\n",
    "    def feature(self):\n",
    "        print(\"this feature belongs father\")\n",
    "\n",
    "class child(father):\n",
    "    def cfeature(self):\n",
    "        print(\"this feature belongs child\")\n",
    "\n",
    "a = child()\n",
    "a.feature()\n",
    "a.cfeature()"
   ]
  },
  {
   "cell_type": "code",
   "execution_count": 4,
   "metadata": {},
   "outputs": [
    {
     "name": "stdout",
     "output_type": "stream",
     "text": [
      "hamid 30\n",
      "hamid 30 manager\n"
     ]
    }
   ],
   "source": [
    "# new example\n",
    "\n",
    "class person:\n",
    "    def __init__(self, name, id):\n",
    "        self.name = name\n",
    "        self.id = id\n",
    "    def display(self):\n",
    "        print(self.name, self.id)\n",
    "\n",
    "class emplo(person):\n",
    "    def __init__(self, name, id, salary, post):\n",
    "        self.salary = salary\n",
    "        self.post = post\n",
    "        person.__init__(self, name, id)\n",
    "    def printd(self):\n",
    "        print(self.name, self.id, self.post)\n",
    "\n",
    "a = emplo(\"hamid\", 30, 3000, \"manager\")\n",
    "a.display()\n",
    "a.printd()"
   ]
  },
  {
   "cell_type": "markdown",
   "metadata": {},
   "source": [
    "#### Multiple inheritance"
   ]
  },
  {
   "cell_type": "code",
   "execution_count": 3,
   "metadata": {},
   "outputs": [
    {
     "name": "stdout",
     "output_type": "stream",
     "text": [
      "father : pa\n",
      "mather : ma\n"
     ]
    }
   ],
   "source": [
    "class mother:\n",
    "    mo = \"\"\n",
    "    def motherr(self):\n",
    "        print(self.mo)\n",
    "\n",
    "class father:\n",
    "    fa = \"\"\n",
    "    def fatherr(self):\n",
    "        print(self.fa)\n",
    "\n",
    "class son(mother, father):\n",
    "    def inat(self):\n",
    "        print(\"father :\", self.fa)\n",
    "        print(\"mather :\", self.mo)\n",
    "\n",
    "a = son()\n",
    "a.fa = \"pa\"\n",
    "a.mo = \"ma\"\n",
    "a.inat()"
   ]
  },
  {
   "cell_type": "code",
   "execution_count": 27,
   "metadata": {},
   "outputs": [
    {
     "name": "stdout",
     "output_type": "stream",
     "text": [
      "in sup1\n",
      "in sup2\n",
      "In inherited\n",
      "hamid ali\n"
     ]
    }
   ],
   "source": [
    "# new example\n",
    "\n",
    "class sup1:\n",
    "    def __init__(self):\n",
    "        self.name1 = \"hamid\"\n",
    "        print(\"in sup1\")\n",
    "\n",
    "class sup2:\n",
    "    def __init__(self):\n",
    "        self.name2 = \"ali\"\n",
    "        print(\"in sup2\")\n",
    "\n",
    "class inherited(sup1, sup2):\n",
    "    def __init__(self):\n",
    "        sup1.__init__(self)\n",
    "        sup2.__init__(self)\n",
    "        print(\"In inherited\")\n",
    "    def printd(self):\n",
    "        print(self.name1, self.name2)\n",
    "\n",
    "a = inherited()\n",
    "a.printd()"
   ]
  },
  {
   "cell_type": "markdown",
   "metadata": {},
   "source": [
    "#### Multilevel inheritance"
   ]
  },
  {
   "cell_type": "code",
   "execution_count": 8,
   "metadata": {},
   "outputs": [
    {
     "name": "stdout",
     "output_type": "stream",
     "text": [
      "Grandfather : Good\n",
      "father : kind\n"
     ]
    }
   ],
   "source": [
    "class Grandfather:\n",
    "    GF = \"\"\n",
    "    def grandfa(self):\n",
    "        print(self.GF)\n",
    "\n",
    "class father(Grandfather):\n",
    "    fa = \"\"\n",
    "    def fatherr(self):\n",
    "        print(self.fa)\n",
    "\n",
    "class son(father):\n",
    "    def inat(self):\n",
    "        print(\"Grandfather :\", self.GF)\n",
    "        print(\"father :\", self.fa)\n",
    "\n",
    "a = son()\n",
    "a.GF = \"Good\"\n",
    "a.fa = \"kind\"\n",
    "a.inat()"
   ]
  },
  {
   "cell_type": "code",
   "execution_count": 5,
   "metadata": {},
   "outputs": [
    {
     "name": "stdout",
     "output_type": "stream",
     "text": [
      "hamid\n",
      "27\n",
      "tehran\n"
     ]
    }
   ],
   "source": [
    "# new example\n",
    "\n",
    "class sup:\n",
    "    def __init__(self, name):\n",
    "        self.name = name\n",
    "    def getname(self):\n",
    "        return self.name\n",
    "\n",
    "class child(sup):\n",
    "    def __init__(self, name, age):\n",
    "        sup.__init__(self, name)\n",
    "        self.age = age\n",
    "    def getage(self):\n",
    "        return self.age\n",
    "\n",
    "class grandc(child):\n",
    "    def __init__(self, name, age, address):\n",
    "        child.__init__(self, name, age)\n",
    "        self.address = address\n",
    "    def getad(self):\n",
    "        return self.address\n",
    "    \n",
    "\n",
    "a = grandc(\"hamid\", 27, \"tehran\")\n",
    "print(a.getname())\n",
    "print(a.getage())\n",
    "print(a.getad())"
   ]
  },
  {
   "cell_type": "markdown",
   "metadata": {},
   "source": [
    "#### hierarchical inheritance"
   ]
  },
  {
   "cell_type": "code",
   "execution_count": 6,
   "metadata": {},
   "outputs": [
    {
     "name": "stdout",
     "output_type": "stream",
     "text": [
      "i am a good person\n",
      "i am a kind person\n"
     ]
    }
   ],
   "source": [
    "class father:\n",
    "    def firsta(self):\n",
    "        print(\"i am a good person\")\n",
    "    def seconda(self):\n",
    "        print(\"i am a kind person\")\n",
    "    \n",
    "class child(father):\n",
    "    def good(self):\n",
    "        father.firsta(self)\n",
    "\n",
    "class child2(father):\n",
    "    def kind(self):\n",
    "        father.seconda(self)\n",
    "\n",
    "a = child()\n",
    "b = child2()\n",
    "a.good()\n",
    "b.kind()"
   ]
  },
  {
   "cell_type": "code",
   "execution_count": 11,
   "metadata": {},
   "outputs": [
    {
     "name": "stdout",
     "output_type": "stream",
     "text": [
      "Hamid\n",
      "ali\n"
     ]
    }
   ],
   "source": [
    "# new example\n",
    "\n",
    "class emplo:\n",
    "    pay_ra = 2\n",
    "    def __init__(self, firstname, familyname, phone, pay):\n",
    "        self.firstname = firstname\n",
    "        self.familyname = familyname\n",
    "        self.phone = phone\n",
    "        self.pay = pay\n",
    "    def fullname(self):\n",
    "        return '{} {}'.format(self.firstname, self.familyname)\n",
    "    def payin(self):\n",
    "        self.pay += int(self.pay * emplo.pay_ra)\n",
    "        return self.pay \n",
    "\n",
    "class developer(emplo):\n",
    "    pass\n",
    "\n",
    "\n",
    "dev1 = developer(\"Hamid\" , \"daneshjo\", 123454, 1000)\n",
    "dev2 = developer(\"ali\", \"safari\", 54321, 2000)\n",
    "\n",
    "print(dev1.firstname)\n",
    "print(dev2.firstname)"
   ]
  },
  {
   "cell_type": "code",
   "execution_count": 1,
   "metadata": {},
   "outputs": [
    {
     "name": "stdout",
     "output_type": "stream",
     "text": [
      "pay befor increas for dev1 : 1000\n",
      "pay after increas for dev1 : 3000\n",
      "\n",
      "\n",
      "pay befor increas for dev2 : 2000\n",
      "pay after increas for dev2 : 4000\n"
     ]
    }
   ],
   "source": [
    "# improve example 1\n",
    "\n",
    "class emplo:\n",
    "    pay_ra = 2\n",
    "    def __init__(self, firstname, familyname, phone, pay):\n",
    "        self.firstname = firstname\n",
    "        self.familyname = familyname\n",
    "        self.phone = phone\n",
    "        self.pay = pay\n",
    "    def fullname(self):\n",
    "        return '{} {}'.format(self.firstname, self.familyname)\n",
    "    def payin(self):\n",
    "        self.pay = int(self.pay * self.pay_ra)\n",
    "        return self.pay \n",
    "\n",
    "class developer(emplo):\n",
    "    pay_ra = 3\n",
    "\n",
    "\n",
    "dev1 = developer(\"Hamid\" , \"daneshjo\", 123454, 1000)\n",
    "dev2 = emplo(\"ali\", \"safari\", 54321, 2000)\n",
    "\n",
    "print(\"pay befor increas for dev1 :\", dev1.pay)\n",
    "dev1.payin()\n",
    "print(\"pay after increas for dev1 :\", dev1.pay)\n",
    "\n",
    "print(\"\\n\")\n",
    "\n",
    "print(\"pay befor increas for dev2 :\", dev2.pay)\n",
    "dev2.payin()\n",
    "print(\"pay after increas for dev2 :\", dev2.pay)"
   ]
  },
  {
   "cell_type": "code",
   "execution_count": 8,
   "metadata": {},
   "outputs": [
    {
     "name": "stdout",
     "output_type": "stream",
     "text": [
      "name of developer : Hamid daneshjo\n",
      "language of developer : python\n",
      "\n",
      "\n",
      "name of developer : ali safari\n",
      "language of developer : Java\n"
     ]
    }
   ],
   "source": [
    "# improve example 2\n",
    "\n",
    "class emplo:\n",
    "    pay_ra = 2\n",
    "    def __init__(self, firstname, familyname, phone, pay):\n",
    "        self.firstname = firstname\n",
    "        self.familyname = familyname\n",
    "        self.phone = phone\n",
    "        self.pay = pay\n",
    "    def fullname(self):\n",
    "        return '{} {}'.format(self.firstname, self.familyname)\n",
    "    def payin(self):\n",
    "        self.pay = int(self.pay * self.pay_ra)\n",
    "        return self.pay \n",
    "\n",
    "class developer(emplo):\n",
    "    def __init__(self, firstname, familyname, phone, pay, prog_lang):\n",
    "        emplo.__init__(self, firstname, familyname, phone, pay)\n",
    "        self.prog_lang = prog_lang\n",
    "\n",
    "\n",
    "dev1 = developer(\"Hamid\" , \"daneshjo\", 123454, 1000, \"python\")\n",
    "dev2 = developer(\"ali\", \"safari\", 54321, 2000, \"Java\")\n",
    "\n",
    "print(\"name of developer :\", dev1.fullname())\n",
    "print(\"language of developer :\", dev1.prog_lang)\n",
    "\n",
    "print(\"\\n\")\n",
    "\n",
    "print(\"name of developer :\", dev2.fullname())\n",
    "print(\"language of developer :\", dev2.prog_lang)"
   ]
  },
  {
   "cell_type": "code",
   "execution_count": 16,
   "metadata": {},
   "outputs": [
    {
     "name": "stdout",
     "output_type": "stream",
     "text": [
      "manager name : reza irani\n",
      "-- Hamid daneshjo\n",
      "None\n",
      "\n",
      "\n",
      "manager name : reza irani\n",
      "-- Hamid daneshjo\n",
      "-- ali safari\n",
      "None\n",
      "\n",
      "\n",
      "manager name : reza irani\n",
      "-- ali safari\n",
      "None\n"
     ]
    }
   ],
   "source": [
    "# improve example 3\n",
    "\n",
    "class emplo:\n",
    "    pay_ra = 2\n",
    "    def __init__(self, firstname, familyname, phone, pay):\n",
    "        self.firstname = firstname\n",
    "        self.familyname = familyname\n",
    "        self.phone = phone\n",
    "        self.pay = pay\n",
    "    def fullname(self):\n",
    "        return '{} {}'.format(self.firstname, self.familyname)\n",
    "    def payin(self):\n",
    "        self.pay = int(self.pay * self.pay_ra)\n",
    "        return self.pay \n",
    "\n",
    "class developer(emplo):\n",
    "    def __init__(self, firstname, familyname, phone, pay, prog_lang):\n",
    "        emplo.__init__(self, firstname, familyname, phone, pay)\n",
    "        self.prog_lang = prog_lang\n",
    "\n",
    "class manager(emplo):\n",
    "    def __init__(self, firstname, familyname, phone, pay, employees = None): # 'employees' is manager subordinates (subordinates is developer)\n",
    "        emplo.__init__(self, firstname, familyname, phone, pay)\n",
    "        if employees is None:\n",
    "            self.employees = []\n",
    "        else:\n",
    "            self.employees = employees\n",
    "\n",
    "    def add_emps(self, emp):\n",
    "        if emp not in self.employees:\n",
    "            self.employees.append(emp)\n",
    "\n",
    "    def remove_emps(self, emp):\n",
    "        if emp in self.employees:\n",
    "            self.employees.remove(emp)\n",
    "\n",
    "    def prin_emps(self):\n",
    "        for emp in self.employees:\n",
    "            print(\"--\", emp.fullname())\n",
    "\n",
    "\n",
    "dev1 = developer(\"Hamid\" , \"daneshjo\", 123454, 1000, \"python\")\n",
    "dev2 = developer(\"ali\", \"safari\", 54321, 2000, \"Java\")\n",
    "mgr1 = manager(\"reza\", \"irani\", 98765 , 9000, [dev1])\n",
    "\n",
    "\n",
    "print(\"manager name :\", mgr1.fullname())\n",
    "print(mgr1.prin_emps())\n",
    "\n",
    "print(\"\\n\")\n",
    "\n",
    "mgr1.add_emps(dev2)\n",
    "print(\"manager name :\", mgr1.fullname())\n",
    "print(mgr1.prin_emps())\n",
    "\n",
    "print(\"\\n\")\n",
    "\n",
    "mgr1.remove_emps(dev1)\n",
    "print(\"manager name :\", mgr1.fullname())\n",
    "print(mgr1.prin_emps())"
   ]
  },
  {
   "cell_type": "code",
   "execution_count": 11,
   "metadata": {},
   "outputs": [
    {
     "name": "stdout",
     "output_type": "stream",
     "text": [
      "True\n",
      "True\n",
      "\n",
      "\n",
      "True\n",
      "False\n",
      "\n",
      "\n",
      "Help on class developer in module __main__:\n",
      "\n",
      "class developer(emplo)\n",
      " |  developer(firstname, familyname, phone, pay, prog_lang)\n",
      " |  \n",
      " |  Method resolution order:\n",
      " |      developer\n",
      " |      emplo\n",
      " |      builtins.object\n",
      " |  \n",
      " |  Methods defined here:\n",
      " |  \n",
      " |  __init__(self, firstname, familyname, phone, pay, prog_lang)\n",
      " |      Initialize self.  See help(type(self)) for accurate signature.\n",
      " |  \n",
      " |  ----------------------------------------------------------------------\n",
      " |  Methods inherited from emplo:\n",
      " |  \n",
      " |  fullname(self)\n",
      " |  \n",
      " |  payin(self)\n",
      " |  \n",
      " |  ----------------------------------------------------------------------\n",
      " |  Data descriptors inherited from emplo:\n",
      " |  \n",
      " |  __dict__\n",
      " |      dictionary for instance variables (if defined)\n",
      " |  \n",
      " |  __weakref__\n",
      " |      list of weak references to the object (if defined)\n",
      " |  \n",
      " |  ----------------------------------------------------------------------\n",
      " |  Data and other attributes inherited from emplo:\n",
      " |  \n",
      " |  pay_ra = 2\n",
      "\n",
      "None\n"
     ]
    }
   ],
   "source": [
    "# improve example 3\n",
    "\n",
    "class emplo:\n",
    "    pay_ra = 2\n",
    "    def __init__(self, firstname, familyname, phone, pay):\n",
    "        self.firstname = firstname\n",
    "        self.familyname = familyname\n",
    "        self.phone = phone\n",
    "        self.pay = pay\n",
    "    def fullname(self):\n",
    "        return '{} {}'.format(self.firstname, self.familyname)\n",
    "    def payin(self):\n",
    "        self.pay = int(self.pay * self.pay_ra)\n",
    "        return self.pay \n",
    "\n",
    "class developer(emplo):\n",
    "    def __init__(self, firstname, familyname, phone, pay, prog_lang):\n",
    "        emplo.__init__(self, firstname, familyname, phone, pay)\n",
    "        self.prog_lang = prog_lang\n",
    "\n",
    "class manager(emplo):\n",
    "    def __init__(self, firstname, familyname, phone, pay, employees = None): # 'employees' is manager subordinates (subordinates is developer)\n",
    "        emplo.__init__(self, firstname, familyname, phone, pay)\n",
    "        if employees is None:\n",
    "            self.employees = []\n",
    "        else:\n",
    "            self.employees = employees\n",
    "\n",
    "    def add_emps(self, emp):\n",
    "        if emp not in self.employees:\n",
    "            self.employees.append(emp)\n",
    "\n",
    "    def remove_emps(self, emp):\n",
    "        if emp in self.employees:\n",
    "            self.employees.remove(emp)\n",
    "\n",
    "    def prin_emps(self):\n",
    "        for emp in self.employees:\n",
    "            print(\"--\", emp.fullname())\n",
    "\n",
    "\n",
    "dev1 = developer(\"Hamid\" , \"daneshjo\", 123454, 1000, \"python\")\n",
    "dev2 = developer(\"ali\", \"safari\", 54321, 2000, \"Java\")\n",
    "mgr1 = manager(\"reza\", \"irani\", 98765 , 9000, [dev1])\n",
    "\n",
    "\"\"\"\n",
    "print(\"manager name :\", mgr1.fullname())\n",
    "print(mgr1.prin_emps())\n",
    "\n",
    "print(\"\\n\")\n",
    "\n",
    "mgr1.add_emps(dev2)\n",
    "print(\"manager name :\", mgr1.fullname())\n",
    "print(mgr1.prin_emps())\n",
    "\n",
    "print(\"\\n\")\n",
    "\n",
    "mgr1.remove_emps(dev1)\n",
    "print(\"manager name :\", mgr1.fullname())\n",
    "print(mgr1.prin_emps())\n",
    "\n",
    "print(\"\\n\")\"\"\"\n",
    "\n",
    "# A method in Python - How to understand object :\n",
    "print(isinstance(mgr1, emplo)) # is A an object of B? ? True/False  or  Did A inherit from B ? True/False\n",
    "print(isinstance(dev1, developer))\n",
    "\n",
    "print(\"\\n\")\n",
    "\n",
    "# A method in Python - How to understand subclass :\n",
    "print(issubclass(developer, emplo)) # Is A subclass B ?\n",
    "print(issubclass(emplo, developer))\n",
    "\n",
    "print(\"\\n\")\n",
    "\n",
    "# A method in Python - explanation of class :\n",
    "print(help(developer))"
   ]
  },
  {
   "cell_type": "markdown",
   "metadata": {},
   "source": [
    "#### Hybrid inheritance"
   ]
  },
  {
   "cell_type": "code",
   "execution_count": 22,
   "metadata": {},
   "outputs": [
    {
     "name": "stdout",
     "output_type": "stream",
     "text": [
      "we all recevie at the school at 8 AM\n",
      "i do my math homework\n",
      "i do my physics homework\n"
     ]
    }
   ],
   "source": [
    "class school:\n",
    "    def func1(self):\n",
    "        print(\"we all recevie at the school at 8 AM\")\n",
    "\n",
    "class student1(school):\n",
    "    def func2(self):\n",
    "        print(\"i do my math homework\")\n",
    "\n",
    "class student2(school):\n",
    "    def func3(self):\n",
    "        print(\"i do my chemistry homework\")\n",
    "\n",
    "class student3(student1, student2):\n",
    "    def func4(self):\n",
    "        print(\"i do my physics homework\")\n",
    "\n",
    "ob = student3()\n",
    "ob.func1()\n",
    "ob.func2()\n",
    "ob.func4()"
   ]
  },
  {
   "cell_type": "markdown",
   "metadata": {},
   "source": [
    "### Inheritance part 2"
   ]
  },
  {
   "cell_type": "markdown",
   "metadata": {},
   "source": [
    "#### case 1"
   ]
  },
  {
   "attachments": {
    "1.png": {
     "image/png": "[encoded data removed]"
    }
   },
   "cell_type": "markdown",
   "metadata": {},
   "source": [
    "![1.png](attachment:1.png)"
   ]
  },
  {
   "cell_type": "code",
   "execution_count": 9,
   "metadata": {},
   "outputs": [
    {
     "name": "stdout",
     "output_type": "stream",
     "text": [
      "manager name : reza irani\n",
      "-- Hamid daneshjo\n",
      "None\n",
      "\n",
      "\n",
      "manager name : reza irani\n",
      "-- Hamid daneshjo\n",
      "-- ali safari\n",
      "None\n",
      "\n",
      "\n",
      "manager name : reza irani\n",
      "-- ali safari\n",
      "None\n",
      "\n",
      "\n"
     ]
    }
   ],
   "source": [
    "# improve last example\n",
    "\n",
    "class emplo:\n",
    "    pay_ra = 2\n",
    "    def __init__(self, firstname, familyname, phone, pay):\n",
    "        self.firstname = firstname\n",
    "        self.familyname = familyname\n",
    "        self.phone = phone\n",
    "        self.pay = pay\n",
    "    def fullname(self):\n",
    "        return '{} {}'.format(self.firstname, self.familyname)\n",
    "    def payin(self):\n",
    "        self.pay = int(self.pay * self.pay_ra)\n",
    "        return self.pay \n",
    "\n",
    "class developer(emplo):\n",
    "    def __init__(self, firstname, familyname, phone, pay, prog_lang):\n",
    "        emplo.__init__(self, firstname, familyname, phone, pay)\n",
    "        self.prog_lang = prog_lang\n",
    "\n",
    "class manager(emplo):\n",
    "    def __init__(self, firstname, familyname, phone, pay, employees = None): # 'employees' is manager subordinates (subordinates is developer)\n",
    "        super().__init__(firstname, familyname, phone, pay) # emplo.__init__(self, firstname, familyname, phone, pay)  #  We can access the inherited class with 'super'  #  also we can use :  super(manager, self).__init__(firstname, familyname, phone, pay)  # we can understand different in the last part of this section 'super class in inheritance (different)'\n",
    "        if employees is None:\n",
    "            self.employees = []\n",
    "        else:\n",
    "            self.employees = employees\n",
    "\n",
    "    def add_emps(self, emp):\n",
    "        if emp not in self.employees:\n",
    "            self.employees.append(emp)\n",
    "\n",
    "    def remove_emps(self, emp):\n",
    "        if emp in self.employees:\n",
    "            self.employees.remove(emp)\n",
    "\n",
    "    def prin_emps(self):\n",
    "        for emp in self.employees:\n",
    "            print(\"--\", emp.fullname())\n",
    "\n",
    "\n",
    "dev1 = developer(\"Hamid\" , \"daneshjo\", 123454, 1000, \"python\")\n",
    "dev2 = developer(\"ali\", \"safari\", 54321, 2000, \"Java\")\n",
    "mgr1 = manager(\"reza\", \"irani\", 98765 , 9000, [dev1])\n",
    "\n",
    "\"\"\"\n",
    "print(\"manager name :\", mgr1.fullname())\n",
    "print(mgr1.prin_emps())\n",
    "\n",
    "print(\"\\n\")\n",
    "\n",
    "mgr1.add_emps(dev2)\n",
    "print(\"manager name :\", mgr1.fullname())\n",
    "print(mgr1.prin_emps())\n",
    "\n",
    "print(\"\\n\")\n",
    "\n",
    "mgr1.remove_emps(dev1)\n",
    "print(\"manager name :\", mgr1.fullname())\n",
    "print(mgr1.prin_emps())\n",
    "\n",
    "print(\"\\n\")\"\"\"\n"
   ]
  },
  {
   "cell_type": "code",
   "execution_count": 14,
   "metadata": {},
   "outputs": [
    {
     "name": "stdout",
     "output_type": "stream",
     "text": [
      "in class A\n"
     ]
    }
   ],
   "source": [
    "# new example\n",
    "\n",
    "class A:\n",
    "    def func(self):\n",
    "        print(\"in class A\")\n",
    "class B:\n",
    "    def func(self):\n",
    "        print(\"in class B\")\n",
    "class c(A, B):\n",
    "    pass\n",
    "\n",
    "a = c()\n",
    "a.func()"
   ]
  },
  {
   "cell_type": "code",
   "execution_count": 17,
   "metadata": {},
   "outputs": [
    {
     "name": "stdout",
     "output_type": "stream",
     "text": [
      "in class B\n",
      "[<class '__main__.c'>, <class '__main__.B'>, <class '__main__.A'>, <class 'object'>]\n"
     ]
    }
   ],
   "source": [
    "# improve example 1\n",
    "\n",
    "class A:\n",
    "    def func(self):\n",
    "        print(\"in class A\")\n",
    "class B:\n",
    "    def func(self):\n",
    "        print(\"in class B\")\n",
    "class c(B, A):\n",
    "    pass\n",
    "\n",
    "a = c()\n",
    "a.func()\n",
    "print(c.mro()) # [<class '__main__.c'>, <class '__main__.B'>, <class '__main__.A'>, <class 'object'>]  this is mean for first we look at 'C' class then 'B' Class then 'A' class and we know when it's end if look at 'A' class because it can find 'func' \n",
    "# 'mro' is Method resolution order"
   ]
  },
  {
   "cell_type": "code",
   "execution_count": 6,
   "metadata": {},
   "outputs": [
    {
     "name": "stdout",
     "output_type": "stream",
     "text": [
      "in class C\n",
      "[<class '__main__.C'>, <class '__main__.A'>, <class '__main__.B'>, <class 'object'>]\n"
     ]
    }
   ],
   "source": [
    "# improve example 2\n",
    "\n",
    "class A:\n",
    "    def func(self):\n",
    "        print(\"in class A\")\n",
    "class B:\n",
    "    def func(self):\n",
    "        print(\"in class B\")\n",
    "class C(A, B):\n",
    "    def func(self):\n",
    "        print(\"in class C\")\n",
    "\n",
    "a = c()\n",
    "a.func()\n",
    "print(C.mro()) # [<class '__main__.c'>, <class '__main__.B'>, <class '__main__.A'>, <class 'object'>]  this is mean for first we look at 'C' class then 'B' Class then 'A' class and we know when it's end if look at 'A' class because it can find 'func' \n",
    "# 'mro' is Method resolution order"
   ]
  },
  {
   "cell_type": "markdown",
   "metadata": {},
   "source": [
    "#### case 2"
   ]
  },
  {
   "attachments": {
    "2.png": {
     "image/png": "[encoded data removed]"
    }
   },
   "cell_type": "markdown",
   "metadata": {},
   "source": [
    "![2.png](attachment:2.png)"
   ]
  },
  {
   "cell_type": "code",
   "execution_count": 5,
   "metadata": {},
   "outputs": [
    {
     "name": "stdout",
     "output_type": "stream",
     "text": [
      "in class C\n",
      "[<class '__main__.D'>, <class '__main__.C'>, <class '__main__.A'>, <class '__main__.B'>, <class 'object'>]\n"
     ]
    }
   ],
   "source": [
    "# new example\n",
    "\n",
    "class A:\n",
    "    def func(self):\n",
    "        print(\"in class A\")\n",
    "class B:\n",
    "    def func(self):\n",
    "        print(\"in class b\")\n",
    "class C(A, B):\n",
    "    def func(self):\n",
    "        print(\"in class C\")\n",
    "class D(C, B):\n",
    "    pass\n",
    "\n",
    "a = D()\n",
    "a.func()\n",
    "print(D.mro()) # print(D.__mro__)"
   ]
  },
  {
   "cell_type": "code",
   "execution_count": 9,
   "metadata": {},
   "outputs": [
    {
     "name": "stdout",
     "output_type": "stream",
     "text": [
      "in class A\n",
      "[<class '__main__.D'>, <class '__main__.C'>, <class '__main__.A'>, <class '__main__.B'>, <class 'object'>]\n"
     ]
    }
   ],
   "source": [
    "# improve example 1\n",
    "\n",
    "class A:\n",
    "    def func(self):\n",
    "        print(\"in class A\")\n",
    "class B:\n",
    "    def func(self):\n",
    "        print(\"in class b\")\n",
    "class C(A, B):\n",
    "    pass\n",
    "class D(C, B):\n",
    "    pass\n",
    "\n",
    "a = D()\n",
    "a.func()\n",
    "print(D.mro()) # print(D.__mro__)"
   ]
  },
  {
   "cell_type": "code",
   "execution_count": 10,
   "metadata": {},
   "outputs": [
    {
     "name": "stdout",
     "output_type": "stream",
     "text": [
      "in class b\n",
      "[<class '__main__.D'>, <class '__main__.C'>, <class '__main__.A'>, <class '__main__.B'>, <class 'object'>]\n"
     ]
    }
   ],
   "source": [
    "# improve example 2\n",
    "\n",
    "class A:\n",
    "    pass\n",
    "class B:\n",
    "    def func(self):\n",
    "        print(\"in class B\")\n",
    "class C(A, B):\n",
    "    pass\n",
    "class D(C, B):\n",
    "    pass\n",
    "\n",
    "a = D()\n",
    "a.func()\n",
    "print(D.mro()) # print(D.__mro__)"
   ]
  },
  {
   "cell_type": "markdown",
   "metadata": {},
   "source": [
    "#### case 3"
   ]
  },
  {
   "attachments": {
    "3.png": {
     "image/png": "[encoded data removed]"
    }
   },
   "cell_type": "markdown",
   "metadata": {},
   "source": [
    "![3.png](attachment:3.png)"
   ]
  },
  {
   "cell_type": "code",
   "execution_count": 1,
   "metadata": {},
   "outputs": [
    {
     "name": "stdout",
     "output_type": "stream",
     "text": [
      "in class C\n",
      "[<class '__main__.D'>, <class '__main__.B'>, <class '__main__.C'>, <class '__main__.A'>, <class 'object'>]\n"
     ]
    }
   ],
   "source": [
    "# new example\n",
    "\n",
    "class A:\n",
    "    def func(self):\n",
    "        print(\"in class A\")\n",
    "class B(A):\n",
    "    pass\n",
    "class C(A):\n",
    "    def func(self):\n",
    "        print(\"in class C\")\n",
    "class D(B, C):\n",
    "    pass\n",
    "\n",
    "a = D()\n",
    "a.func()\n",
    "print(D.mro()) # print(D.__mro__)"
   ]
  },
  {
   "cell_type": "markdown",
   "metadata": {},
   "source": [
    "D -> B -> A -> C -> A \n",
    "\n",
    "first 'A' is delete because we can't have two 'A' , and the way come to be this :\n",
    "\n",
    "D -> B -> C -> A "
   ]
  },
  {
   "cell_type": "code",
   "execution_count": 8,
   "metadata": {},
   "outputs": [
    {
     "name": "stdout",
     "output_type": "stream",
     "text": [
      "in class B\n",
      "[<class '__main__.D'>, <class '__main__.B'>, <class '__main__.C'>, <class '__main__.A'>, <class 'object'>]\n"
     ]
    }
   ],
   "source": [
    "# improve example 1\n",
    "\n",
    "class A:\n",
    "    def func(self):\n",
    "        print(\"in class A\")\n",
    "class B(A):\n",
    "    def func(self):\n",
    "        print(\"in class B\")\n",
    "class C(A):\n",
    "    def func(self):\n",
    "        print(\"in class C\")\n",
    "class D(B, C):\n",
    "    pass\n",
    "\n",
    "a = D()\n",
    "a.func()\n",
    "print(D.mro()) # print(D.__mro__)"
   ]
  },
  {
   "cell_type": "markdown",
   "metadata": {},
   "source": [
    "#### case 4"
   ]
  },
  {
   "attachments": {
    "4.png": {
     "image/png": "[encoded data removed]"
    }
   },
   "cell_type": "markdown",
   "metadata": {},
   "source": [
    "![4.png](attachment:4.png)"
   ]
  },
  {
   "cell_type": "code",
   "execution_count": 5,
   "metadata": {},
   "outputs": [
    {
     "ename": "TypeError",
     "evalue": "Cannot create a consistent method resolution\norder (MRO) for bases A, B",
     "output_type": "error",
     "traceback": [
      "\u001b[1;31m---------------------------------------------------------------------------\u001b[0m",
      "\u001b[1;31mTypeError\u001b[0m                                 Traceback (most recent call last)",
      "Cell \u001b[1;32mIn[5], line 9\u001b[0m\n\u001b[0;32m      7\u001b[0m     \u001b[38;5;28;01mdef\u001b[39;00m \u001b[38;5;21mfunc\u001b[39m(\u001b[38;5;28mself\u001b[39m):\n\u001b[0;32m      8\u001b[0m         \u001b[38;5;28mprint\u001b[39m(\u001b[38;5;124m\"\u001b[39m\u001b[38;5;124min class B\u001b[39m\u001b[38;5;124m\"\u001b[39m)\n\u001b[1;32m----> 9\u001b[0m \u001b[38;5;28;01mclass\u001b[39;00m \u001b[38;5;21;01mC\u001b[39;00m(A, B):\n\u001b[0;32m     10\u001b[0m     \u001b[38;5;28;01mpass\u001b[39;00m\n\u001b[0;32m     12\u001b[0m a \u001b[38;5;241m=\u001b[39m C()\n",
      "\u001b[1;31mTypeError\u001b[0m: Cannot create a consistent method resolution\norder (MRO) for bases A, B"
     ]
    }
   ],
   "source": [
    "# new example\n",
    "\n",
    "class A:\n",
    "    def func(self):\n",
    "        print(\"in class A\")\n",
    "class B(A):\n",
    "    def func(self):\n",
    "        print(\"in class B\")\n",
    "class C(A, B):\n",
    "    pass\n",
    "\n",
    "a = C()\n",
    "a.func()\n",
    "# the output is Error"
   ]
  },
  {
   "cell_type": "markdown",
   "metadata": {},
   "source": [
    "C -> A -> B -> A\n",
    "\n",
    "as before , we delete first 'A' , but if we delete first 'A' , the way come to be this : C -> B -> A\n",
    "\n",
    "and this way is uncorrect , because first superclass for 'C' , is 'A' not 'B' , so we get Error in output"
   ]
  },
  {
   "cell_type": "markdown",
   "metadata": {},
   "source": [
    "#### super class in inheritance (different)"
   ]
  },
  {
   "cell_type": "code",
   "execution_count": 2,
   "metadata": {},
   "outputs": [
    {
     "name": "stdout",
     "output_type": "stream",
     "text": [
      "(<class '__main__.userA'>, <class '__main__.sub1'>, <class '__main__.user_dep'>, <class '__main__.sup'>, <class 'object'>)\n",
      "(<class '__main__.userB'>, <class '__main__.sub2'>, <class '__main__.user_dep'>, <class '__main__.sup'>, <class 'object'>)\n"
     ]
    }
   ],
   "source": [
    "# super explain\n",
    "\n",
    "class sup(object):\n",
    "    def __init__(self):\n",
    "        print(\"in sup\")\n",
    "class sub1(sup):\n",
    "    def __init__(self):\n",
    "        print(\"in sub1\")\n",
    "        sup.__init__(self)\n",
    "class sub2(sup):\n",
    "    def __init__(self):\n",
    "        print(\"in sub2\")\n",
    "        super(sub2, self).__init__()\n",
    "class user_dep(sup):\n",
    "    def __init__(self):\n",
    "        print(\"in dep\")\n",
    "        super(user_dep, self).__init__()\n",
    "\n",
    "class userA(sub1, user_dep):\n",
    "    def __init__(self):\n",
    "        print(\"in userA\")\n",
    "        super(userA, self).__init__()\n",
    "\n",
    "class userB(sub2, user_dep):\n",
    "    def __init__(self):\n",
    "        print(\"in userB\")\n",
    "        super(userB, self).__init__()\n",
    "\n",
    "\n",
    "print(userA.__mro__)\n",
    "print(userB.__mro__)"
   ]
  },
  {
   "cell_type": "markdown",
   "metadata": {},
   "source": [
    "userA -> sub1 -> sup -> user_dep -> sup\n",
    "\n",
    "it's come to be this way :\n",
    "\n",
    "userA -> sub1 -> user_dep -> sup"
   ]
  },
  {
   "cell_type": "code",
   "execution_count": 7,
   "metadata": {},
   "outputs": [
    {
     "name": "stdout",
     "output_type": "stream",
     "text": [
      "(<class '__main__.userA'>, <class '__main__.sub1'>, <class '__main__.user_dep'>, <class '__main__.sup'>, <class 'object'>)\n",
      "(<class '__main__.userB'>, <class '__main__.sub2'>, <class '__main__.user_dep'>, <class '__main__.sup'>, <class 'object'>)\n",
      "\n",
      "\n",
      "in userA\n",
      "in sub1\n",
      "in sup\n"
     ]
    },
    {
     "data": {
      "text/plain": [
       "<__main__.userA at 0x203c4a905d0>"
      ]
     },
     "execution_count": 7,
     "metadata": {},
     "output_type": "execute_result"
    }
   ],
   "source": [
    "# improve explain\n",
    "\n",
    "class sup(object):\n",
    "    def __init__(self):\n",
    "        print(\"in sup\")\n",
    "class sub1(sup):\n",
    "    def __init__(self):\n",
    "        print(\"in sub1\")\n",
    "        sup.__init__(self)\n",
    "class sub2(sup):\n",
    "    def __init__(self):\n",
    "        print(\"in sub2\")\n",
    "        super(sub2, self).__init__()\n",
    "class user_dep(sup):\n",
    "    def __init__(self):\n",
    "        print(\"in dep\")\n",
    "        super(user_dep, self).__init__()\n",
    "\n",
    "class userA(sub1, user_dep):\n",
    "    def __init__(self):\n",
    "        print(\"in userA\")\n",
    "        super(userA, self).__init__()\n",
    "\n",
    "class userB(sub2, user_dep):\n",
    "    def __init__(self):\n",
    "        print(\"in userB\")\n",
    "        super(userB, self).__init__()\n",
    "\n",
    "\n",
    "print(userA.__mro__)\n",
    "print(userB.__mro__)\n",
    "\n",
    "print('\\n')\n",
    "\n",
    "userA()"
   ]
  },
  {
   "cell_type": "markdown",
   "metadata": {},
   "source": [
    "userA -> sub1 -> sup\n",
    "\n",
    "why we don't have 'user_dep' ? because in class 'sub1' we said : `sup.__init__(self)` so it's going to 'sup' not 'user_dep'\n",
    "\n",
    "so we don't have same way with method resolution order (MRO)"
   ]
  },
  {
   "cell_type": "code",
   "execution_count": 8,
   "metadata": {},
   "outputs": [
    {
     "name": "stdout",
     "output_type": "stream",
     "text": [
      "(<class '__main__.userA'>, <class '__main__.sub1'>, <class '__main__.user_dep'>, <class '__main__.sup'>, <class 'object'>)\n",
      "(<class '__main__.userB'>, <class '__main__.sub2'>, <class '__main__.user_dep'>, <class '__main__.sup'>, <class 'object'>)\n",
      "\n",
      "\n",
      "in userB\n",
      "in sub2\n",
      "in dep\n",
      "in sup\n"
     ]
    },
    {
     "data": {
      "text/plain": [
       "<__main__.userB at 0x203c4a10fd0>"
      ]
     },
     "execution_count": 8,
     "metadata": {},
     "output_type": "execute_result"
    }
   ],
   "source": [
    "# improve explain\n",
    "\n",
    "class sup(object):\n",
    "    def __init__(self):\n",
    "        print(\"in sup\")\n",
    "class sub1(sup):\n",
    "    def __init__(self):\n",
    "        print(\"in sub1\")\n",
    "        sup.__init__(self)\n",
    "class sub2(sup):\n",
    "    def __init__(self):\n",
    "        print(\"in sub2\")\n",
    "        super(sub2, self).__init__()\n",
    "class user_dep(sup):\n",
    "    def __init__(self):\n",
    "        print(\"in dep\")\n",
    "        super(user_dep, self).__init__()\n",
    "\n",
    "class userA(sub1, user_dep):\n",
    "    def __init__(self):\n",
    "        print(\"in userA\")\n",
    "        super(userA, self).__init__()\n",
    "\n",
    "class userB(sub2, user_dep):\n",
    "    def __init__(self):\n",
    "        print(\"in userB\")\n",
    "        super(userB, self).__init__()\n",
    "\n",
    "\n",
    "print(userA.__mro__)\n",
    "print(userB.__mro__)\n",
    "\n",
    "print('\\n')\n",
    "\n",
    "userB()"
   ]
  },
  {
   "cell_type": "markdown",
   "metadata": {},
   "source": [
    "userB -> sub2 -> user_dep -> sup\n",
    "\n",
    "if you look carefully , we can understand in 'userB' we have same way in method resolution order (MRO) , but why it's different in 'userB' and 'userA' ?\n",
    "\n",
    "answer : it's about how we write code in super method , means , this code is for class 'sub1' :\n",
    "\n",
    "`sup.__init__(self)` (in python 3 format)\n",
    "\n",
    "and this code is for class 'sub2' :\n",
    "\n",
    "`super(sub2, self).__init__()` (in python 2 format)\n",
    "\n",
    "we said these are the same , actually they aren't , the different it's about how we write super class."
   ]
  },
  {
   "cell_type": "markdown",
   "metadata": {},
   "source": [
    "### Character ( _ ) in class variables"
   ]
  },
  {
   "cell_type": "markdown",
   "metadata": {},
   "source": [
    "#### ( _ ) Introduction"
   ]
  },
  {
   "cell_type": "code",
   "execution_count": null,
   "metadata": {},
   "outputs": [
    {
     "name": "stdout",
     "output_type": "stream",
     "text": [
      "12\n",
      "5\n",
      "15\n",
      "a : 5\n"
     ]
    }
   ],
   "source": [
    "print(3+9)\n",
    "\n",
    "print(_) # underline save the last Calculations\n",
    "\n",
    "print(_+10) # means : 5 + 10\n",
    "\n",
    "a = _\n",
    "print(\"a :\", a)"
   ]
  },
  {
   "cell_type": "code",
   "execution_count": 31,
   "metadata": {},
   "outputs": [
    {
     "name": "stdout",
     "output_type": "stream",
     "text": [
      "a : 1\n",
      "_ : 2\n",
      "b : 3\n"
     ]
    }
   ],
   "source": [
    "a, _, b = (1,2,3)\n",
    "\n",
    "print(\"a :\", a)\n",
    "print(\"_ :\", _)\n",
    "print(\"b :\", b)"
   ]
  },
  {
   "cell_type": "code",
   "execution_count": 32,
   "metadata": {},
   "outputs": [
    {
     "name": "stdout",
     "output_type": "stream",
     "text": [
      "a : 1\n",
      "_ : [2, 3, 4, 5, 6]\n",
      "b : 7\n"
     ]
    }
   ],
   "source": [
    "a, *_, b = (1,2,3,4,5,6,7)\n",
    "\n",
    "print(\"a :\", a)\n",
    "print(\"_ :\", _)\n",
    "print(\"b :\", b)"
   ]
  },
  {
   "cell_type": "code",
   "execution_count": 33,
   "metadata": {},
   "outputs": [
    {
     "name": "stdout",
     "output_type": "stream",
     "text": [
      "a : 1\n",
      "_ : [2, 3, 4, 5]\n",
      "b : 6\n",
      "c : 7\n"
     ]
    }
   ],
   "source": [
    "a, *_, b, c = (1,2,3,4,5,6,7)\n",
    "\n",
    "print(\"a :\", a)\n",
    "print(\"_ :\", _)\n",
    "print(\"b :\", b)\n",
    "print(\"c :\", c)"
   ]
  },
  {
   "cell_type": "code",
   "execution_count": 34,
   "metadata": {},
   "outputs": [
    {
     "name": "stdout",
     "output_type": "stream",
     "text": [
      "0\n",
      "1\n",
      "2\n",
      "3\n",
      "4\n",
      "5\n",
      "6\n",
      "7\n",
      "8\n",
      "9\n"
     ]
    }
   ],
   "source": [
    "for _ in range(10):\n",
    "    print(_)"
   ]
  },
  {
   "cell_type": "code",
   "execution_count": 35,
   "metadata": {},
   "outputs": [
    {
     "name": "stdout",
     "output_type": "stream",
     "text": [
      "py\n",
      "java\n",
      "C++\n"
     ]
    }
   ],
   "source": [
    "a = [\"py\", \"java\", \"C++\"]\n",
    "for _ in a:\n",
    "    print(_)"
   ]
  },
  {
   "cell_type": "markdown",
   "metadata": {},
   "source": [
    "#### _var (protected variable)"
   ]
  },
  {
   "cell_type": "code",
   "execution_count": 51,
   "metadata": {},
   "outputs": [
    {
     "name": "stdout",
     "output_type": "stream",
     "text": [
      "hamid\n",
      "30\n",
      "40\n",
      "9\n"
     ]
    }
   ],
   "source": [
    "# app.py :\n",
    "\n",
    "class test():\n",
    "    def __init__(self):\n",
    "        self.name = \"hamid\"\n",
    "        self.id = 10\n",
    "        self._score = 30\n",
    "\n",
    "_b = 40\n",
    "\n",
    "def func():\n",
    "    return 8\n",
    "\n",
    "def _func():\n",
    "    return 9\n",
    "\n",
    "\n",
    "a = test()\n",
    "print(a.name)\n",
    "print(a._score)\n",
    "print(_b)\n",
    "print(_func())"
   ]
  },
  {
   "cell_type": "markdown",
   "metadata": {},
   "source": [
    "we saw , we can use '_variable' in app.py file , but if we want use this file like library in other file , we can't access to some variable :\n",
    "\n",
    "for example we have this file (app.py) and we want use it in other file (all.py), we will write in file 'all.py' :\n",
    "\n",
    "`from app import *`\n",
    "\n",
    "and let's see how much we can access to variable :\n",
    "\n",
    "`a = test()`\n",
    "\n",
    "`print(a.name)`\n",
    "\n",
    "> hamid\n",
    "\n",
    "`print(a._score)`\n",
    "\n",
    "> 30\n",
    "\n",
    "`print(_b)`\n",
    "\n",
    "> NameError: name '_d' is not defined\n",
    "\n",
    "`print(func)`\n",
    "\n",
    "> 8\n",
    "\n",
    "`print(_func)`\n",
    "\n",
    "> NameError: name '_func' is not defined\n",
    "\n",
    "so we cant access these file with underline(_) , we call these variable : 'protected'\n",
    "\n",
    "but this is contract between programmer , but we can access to these 'protected' variable with this way :\n",
    "\n",
    "`import _var`\n",
    "\n",
    "`_var._b`\n",
    "\n",
    "> 40\n",
    "\n",
    "`_var._func`\n",
    "\n",
    "> 9"
   ]
  },
  {
   "cell_type": "markdown",
   "metadata": {},
   "source": [
    "#### var_"
   ]
  },
  {
   "cell_type": "markdown",
   "metadata": {},
   "source": [
    "we can use it for use keyword in our proggramming like this :"
   ]
  },
  {
   "cell_type": "code",
   "execution_count": 1,
   "metadata": {},
   "outputs": [
    {
     "ename": "SyntaxError",
     "evalue": "invalid syntax (784770928.py, line 3)",
     "output_type": "error",
     "traceback": [
      "\u001b[1;36m  Cell \u001b[1;32mIn[1], line 3\u001b[1;36m\u001b[0m\n\u001b[1;33m    def mydef(class):\u001b[0m\n\u001b[1;37m              ^\u001b[0m\n\u001b[1;31mSyntaxError\u001b[0m\u001b[1;31m:\u001b[0m invalid syntax\n"
     ]
    }
   ],
   "source": [
    "# we can't use it now\n",
    "\n",
    "def mydef(class):\n",
    "    pass"
   ]
  },
  {
   "cell_type": "markdown",
   "metadata": {},
   "source": [
    "now we can use underline for name :"
   ]
  },
  {
   "cell_type": "code",
   "execution_count": 6,
   "metadata": {},
   "outputs": [],
   "source": [
    "# now we can\n",
    "\n",
    "def mydef(class_):\n",
    "    pass"
   ]
  },
  {
   "cell_type": "markdown",
   "metadata": {},
   "source": [
    "#### __var (privat variable)"
   ]
  },
  {
   "cell_type": "code",
   "execution_count": 7,
   "metadata": {},
   "outputs": [
    {
     "name": "stdout",
     "output_type": "stream",
     "text": [
      "a : 10\n",
      "b : 20\n"
     ]
    },
    {
     "ename": "AttributeError",
     "evalue": "'sup' object has no attribute '__c'",
     "output_type": "error",
     "traceback": [
      "\u001b[1;31m---------------------------------------------------------------------------\u001b[0m",
      "\u001b[1;31mAttributeError\u001b[0m                            Traceback (most recent call last)",
      "Cell \u001b[1;32mIn[7], line 10\u001b[0m\n\u001b[0;32m      8\u001b[0m \u001b[38;5;28mprint\u001b[39m(\u001b[38;5;124m\"\u001b[39m\u001b[38;5;124ma :\u001b[39m\u001b[38;5;124m\"\u001b[39m, e\u001b[38;5;241m.\u001b[39ma)\n\u001b[0;32m      9\u001b[0m \u001b[38;5;28mprint\u001b[39m(\u001b[38;5;124m\"\u001b[39m\u001b[38;5;124mb :\u001b[39m\u001b[38;5;124m\"\u001b[39m, e\u001b[38;5;241m.\u001b[39m_b)\n\u001b[1;32m---> 10\u001b[0m \u001b[38;5;28mprint\u001b[39m(\u001b[38;5;124m\"\u001b[39m\u001b[38;5;124mc :\u001b[39m\u001b[38;5;124m\"\u001b[39m, e\u001b[38;5;241m.\u001b[39m__c)\n",
      "\u001b[1;31mAttributeError\u001b[0m: 'sup' object has no attribute '__c'"
     ]
    }
   ],
   "source": [
    "class sup():\n",
    "    def __init__(self):\n",
    "        self.a = 10 # publiv\n",
    "        self._b = 20 # protected\n",
    "        self.__c = 30\n",
    "\n",
    "e = sup()\n",
    "print(\"a :\", e.a)\n",
    "print(\"b :\", e._b)\n",
    "print(\"c :\", e.__c) # we have error for this"
   ]
  },
  {
   "cell_type": "code",
   "execution_count": 8,
   "metadata": {},
   "outputs": [
    {
     "name": "stdout",
     "output_type": "stream",
     "text": [
      "a : ali\n",
      "b : amir\n"
     ]
    },
    {
     "ename": "AttributeError",
     "evalue": "'sub' object has no attribute '__c'",
     "output_type": "error",
     "traceback": [
      "\u001b[1;31m---------------------------------------------------------------------------\u001b[0m",
      "\u001b[1;31mAttributeError\u001b[0m                            Traceback (most recent call last)",
      "Cell \u001b[1;32mIn[8], line 17\u001b[0m\n\u001b[0;32m     15\u001b[0m \u001b[38;5;28mprint\u001b[39m(\u001b[38;5;124m\"\u001b[39m\u001b[38;5;124ma :\u001b[39m\u001b[38;5;124m\"\u001b[39m, e\u001b[38;5;241m.\u001b[39ma)\n\u001b[0;32m     16\u001b[0m \u001b[38;5;28mprint\u001b[39m(\u001b[38;5;124m\"\u001b[39m\u001b[38;5;124mb :\u001b[39m\u001b[38;5;124m\"\u001b[39m, e\u001b[38;5;241m.\u001b[39m_b)\n\u001b[1;32m---> 17\u001b[0m \u001b[38;5;28mprint\u001b[39m(\u001b[38;5;124m\"\u001b[39m\u001b[38;5;124mc :\u001b[39m\u001b[38;5;124m\"\u001b[39m, e\u001b[38;5;241m.\u001b[39m__c)\n",
      "\u001b[1;31mAttributeError\u001b[0m: 'sub' object has no attribute '__c'"
     ]
    }
   ],
   "source": [
    "# improve the example\n",
    "\n",
    "class sup():\n",
    "    def __init__(self):\n",
    "        self.a = 10 # public\n",
    "        self._b = 20 # protected\n",
    "        self.__c = 30 # private\n",
    "\n",
    "class sub(sup):\n",
    "    def __init__(self):\n",
    "        super().__init__()\n",
    "        self.a = \"ali\"\n",
    "        self._b = \"amir\"\n",
    "        self.__c = \"ahmad\"\n",
    "\n",
    "e = sub()\n",
    "print(\"a :\", e.a)\n",
    "print(\"b :\", e._b)\n",
    "print(\"c :\", e.__c) # we have error for this"
   ]
  },
  {
   "cell_type": "markdown",
   "metadata": {},
   "source": [
    "the '__c' is private variable , and we cant access to it.\n",
    "\n",
    "but we can access to it , with this way :"
   ]
  },
  {
   "cell_type": "code",
   "execution_count": 9,
   "metadata": {},
   "outputs": [
    {
     "name": "stdout",
     "output_type": "stream",
     "text": [
      "a : ali\n",
      "b : amir\n"
     ]
    },
    {
     "data": {
      "text/plain": [
       "'ahmad'"
      ]
     },
     "execution_count": 9,
     "metadata": {},
     "output_type": "execute_result"
    }
   ],
   "source": [
    "# improve the example\n",
    "\n",
    "class sup():\n",
    "    def __init__(self):\n",
    "        self.a = 10 # public\n",
    "        self._b = 20 # protected\n",
    "        self.__c = 30 # private\n",
    "\n",
    "class sub(sup):\n",
    "    def __init__(self):\n",
    "        super().__init__()\n",
    "        self.a = \"ali\"\n",
    "        self._b = \"amir\"\n",
    "        self.__c = \"ahmad\"\n",
    "\n",
    "e = sub()\n",
    "print(\"a :\", e.a)\n",
    "print(\"b :\", e._b)\n",
    "e._sub__c  # we have no error , for understand this , read 'dir(direction)'"
   ]
  },
  {
   "cell_type": "code",
   "execution_count": 18,
   "metadata": {},
   "outputs": [
    {
     "name": "stdout",
     "output_type": "stream",
     "text": [
      "a : 10\n",
      "b : 20\n"
     ]
    },
    {
     "data": {
      "text/plain": [
       "30"
      ]
     },
     "execution_count": 18,
     "metadata": {},
     "output_type": "execute_result"
    }
   ],
   "source": [
    "# improve the example\n",
    "\n",
    "class sup():\n",
    "    def __init__(self):\n",
    "        self.a = 10 # public\n",
    "        self._b = 20 # protected\n",
    "        self.__c = 30 # private\n",
    "    def get_data(self):\n",
    "        return self.__c\n",
    "\n",
    "e = sup()\n",
    "print(\"a :\", e.a)\n",
    "print(\"b :\", e._b)\n",
    "e.get_data()  # we have no error"
   ]
  },
  {
   "cell_type": "code",
   "execution_count": 21,
   "metadata": {},
   "outputs": [
    {
     "name": "stdout",
     "output_type": "stream",
     "text": [
      "a : 10\n",
      "b : 20\n"
     ]
    },
    {
     "data": {
      "text/plain": [
       "10"
      ]
     },
     "execution_count": 21,
     "metadata": {},
     "output_type": "execute_result"
    }
   ],
   "source": [
    "# new example\n",
    "\n",
    "class sup():\n",
    "    def __init__(self):\n",
    "        self.a = 10 # public\n",
    "        self._b = 20 # protected\n",
    "        self.__c = 30 # private\n",
    "    def __get_data(self): # now this def is private\n",
    "        return self.a\n",
    "    def get_data(self):\n",
    "        return self.__get_data()\n",
    "    \n",
    "e = sup()\n",
    "print(\"a :\", e.a)\n",
    "print(\"b :\", e._b)\n",
    "e.get_data()"
   ]
  },
  {
   "cell_type": "code",
   "execution_count": 7,
   "metadata": {},
   "outputs": [
    {
     "data": {
      "text/plain": [
       "'ali'"
      ]
     },
     "execution_count": 7,
     "metadata": {},
     "output_type": "execute_result"
    }
   ],
   "source": [
    "# new example\n",
    "\n",
    "_sup__name = \"ali\"\n",
    "class sup():\n",
    "    def return_name(self):\n",
    "        return __name\n",
    "    \n",
    "a = sup()\n",
    "a.return_name()"
   ]
  },
  {
   "cell_type": "markdown",
   "metadata": {},
   "source": [
    "##### **dir (direction)**"
   ]
  },
  {
   "cell_type": "code",
   "execution_count": 15,
   "metadata": {},
   "outputs": [
    {
     "data": {
      "text/plain": [
       "['__class__',\n",
       " '__delattr__',\n",
       " '__dict__',\n",
       " '__dir__',\n",
       " '__doc__',\n",
       " '__eq__',\n",
       " '__format__',\n",
       " '__ge__',\n",
       " '__getattribute__',\n",
       " '__getstate__',\n",
       " '__gt__',\n",
       " '__hash__',\n",
       " '__init__',\n",
       " '__init_subclass__',\n",
       " '__le__',\n",
       " '__lt__',\n",
       " '__module__',\n",
       " '__ne__',\n",
       " '__new__',\n",
       " '__reduce__',\n",
       " '__reduce_ex__',\n",
       " '__repr__',\n",
       " '__setattr__',\n",
       " '__sizeof__',\n",
       " '__str__',\n",
       " '__subclasshook__',\n",
       " '__weakref__',\n",
       " '_b',\n",
       " '_sup__c',\n",
       " 'a']"
      ]
     },
     "execution_count": 15,
     "metadata": {},
     "output_type": "execute_result"
    }
   ],
   "source": [
    "class sup():\n",
    "    def __init__(self):\n",
    "        self.a = 10 # public\n",
    "        self._b = 20 # protected\n",
    "        self.__c = 30 # private\n",
    "\n",
    "class sub(sup):\n",
    "    def __init__(self):\n",
    "        super().__init__()\n",
    "        self.a = \"ali\"\n",
    "        self._b = \"amir\"\n",
    "        self.__c = \"ahmad\"\n",
    "\n",
    "o = sup()\n",
    "dir(o)"
   ]
  },
  {
   "cell_type": "code",
   "execution_count": 13,
   "metadata": {},
   "outputs": [
    {
     "data": {
      "text/plain": [
       "['__class__',\n",
       " '__delattr__',\n",
       " '__dict__',\n",
       " '__dir__',\n",
       " '__doc__',\n",
       " '__eq__',\n",
       " '__format__',\n",
       " '__ge__',\n",
       " '__getattribute__',\n",
       " '__getstate__',\n",
       " '__gt__',\n",
       " '__hash__',\n",
       " '__init__',\n",
       " '__init_subclass__',\n",
       " '__le__',\n",
       " '__lt__',\n",
       " '__module__',\n",
       " '__ne__',\n",
       " '__new__',\n",
       " '__reduce__',\n",
       " '__reduce_ex__',\n",
       " '__repr__',\n",
       " '__setattr__',\n",
       " '__sizeof__',\n",
       " '__str__',\n",
       " '__subclasshook__',\n",
       " '__weakref__',\n",
       " '_b',\n",
       " '_sub__c',\n",
       " '_sup__c',\n",
       " 'a']"
      ]
     },
     "execution_count": 13,
     "metadata": {},
     "output_type": "execute_result"
    }
   ],
   "source": [
    "class sup():\n",
    "    def __init__(self):\n",
    "        self.a = 10 # public\n",
    "        self._b = 20 # protected\n",
    "        self.__c = 30 # private\n",
    "\n",
    "class sub(sup):\n",
    "    def __init__(self):\n",
    "        super().__init__()\n",
    "        self.a = \"ali\"\n",
    "        self._b = \"amir\"\n",
    "        self.__c = \"ahmad\"\n",
    "\n",
    "e = sub()\n",
    "dir(e)"
   ]
  },
  {
   "cell_type": "code",
   "execution_count": 14,
   "metadata": {},
   "outputs": [
    {
     "data": {
      "text/plain": [
       "30"
      ]
     },
     "execution_count": 14,
     "metadata": {},
     "output_type": "execute_result"
    }
   ],
   "source": [
    "# for example \n",
    "\n",
    "class sup():\n",
    "    def __init__(self):\n",
    "        self.a = 10 # public\n",
    "        self._b = 20 # protected\n",
    "        self.__c = 30 # private\n",
    "\n",
    "class sub(sup):\n",
    "    def __init__(self):\n",
    "        super().__init__()\n",
    "        self.a = \"ali\"\n",
    "        self._b = \"amir\"\n",
    "        self.__c = \"ahmad\"\n",
    "\n",
    "e = sub()\n",
    "e._sup__c"
   ]
  },
  {
   "cell_type": "markdown",
   "metadata": {},
   "source": [
    "#### __ var __ "
   ]
  },
  {
   "cell_type": "markdown",
   "metadata": {},
   "source": [
    "###### **__ add __**"
   ]
  },
  {
   "cell_type": "code",
   "execution_count": 8,
   "metadata": {},
   "outputs": [
    {
     "data": {
      "text/plain": [
       "3"
      ]
     },
     "execution_count": 8,
     "metadata": {},
     "output_type": "execute_result"
    }
   ],
   "source": [
    "int.__add__(1,2)\n",
    "\n",
    "# print(1+2)"
   ]
  },
  {
   "cell_type": "code",
   "execution_count": 3,
   "metadata": {},
   "outputs": [
    {
     "data": {
      "text/plain": [
       "'ab'"
      ]
     },
     "execution_count": 3,
     "metadata": {},
     "output_type": "execute_result"
    }
   ],
   "source": [
    "str.__add__(\"a\",\"b\")\n",
    "\n",
    "# print(\"a\"+\"b\")"
   ]
  },
  {
   "cell_type": "code",
   "execution_count": 4,
   "metadata": {},
   "outputs": [
    {
     "ename": "TypeError",
     "evalue": "unsupported operand type(s) for +: 'emplo' and 'emplo'",
     "output_type": "error",
     "traceback": [
      "\u001b[1;31m---------------------------------------------------------------------------\u001b[0m",
      "\u001b[1;31mTypeError\u001b[0m                                 Traceback (most recent call last)",
      "Cell \u001b[1;32mIn[4], line 23\u001b[0m\n\u001b[0;32m     20\u001b[0m a \u001b[38;5;241m=\u001b[39m emplo(\u001b[38;5;124m\"\u001b[39m\u001b[38;5;124mHamid\u001b[39m\u001b[38;5;124m\"\u001b[39m , \u001b[38;5;124m\"\u001b[39m\u001b[38;5;124mdaneshjo\u001b[39m\u001b[38;5;124m\"\u001b[39m, \u001b[38;5;241m123454\u001b[39m, \u001b[38;5;241m1000\u001b[39m)\n\u001b[0;32m     21\u001b[0m b \u001b[38;5;241m=\u001b[39m emplo(\u001b[38;5;124m\"\u001b[39m\u001b[38;5;124mali\u001b[39m\u001b[38;5;124m\"\u001b[39m , \u001b[38;5;124m\"\u001b[39m\u001b[38;5;124mahmadi\u001b[39m\u001b[38;5;124m\"\u001b[39m, \u001b[38;5;241m54321\u001b[39m, \u001b[38;5;241m3000\u001b[39m)\n\u001b[1;32m---> 23\u001b[0m \u001b[38;5;28mprint\u001b[39m(a\u001b[38;5;241m+\u001b[39mb)\n",
      "\u001b[1;31mTypeError\u001b[0m: unsupported operand type(s) for +: 'emplo' and 'emplo'"
     ]
    }
   ],
   "source": [
    "# new example\n",
    "\n",
    "class emplo:\n",
    "    pay_ra = 2\n",
    "    def __init__(self, firstname, familyname, phone, pay):\n",
    "        self.firstname = firstname\n",
    "        self.familyname = familyname\n",
    "        self.phone = phone\n",
    "        self.pay = pay\n",
    "    def fullname(self):\n",
    "        return '{} {}'.format(self.firstname, self.familyname)\n",
    "    def payin(self):\n",
    "        self.pay = int(self.pay * self.pay_ra)\n",
    "        return self.pay \n",
    "\n",
    "class developer(emplo):\n",
    "    def __init__(self, firstname, familyname, phone, pay, prog_lang):\n",
    "        emplo.__init__(self, firstname, familyname, phone, pay)\n",
    "        self.prog_lang = prog_lang\n",
    "\n",
    "\n",
    "a = emplo(\"Hamid\" , \"daneshjo\", 123454, 1000)\n",
    "b = emplo(\"ali\" , \"ahmadi\", 54321, 3000)\n",
    "\n",
    "print(a+b)"
   ]
  },
  {
   "cell_type": "markdown",
   "metadata": {},
   "source": [
    "we can't use it like last example\n",
    "\n",
    "so we will build our  `__add__`  function 👇"
   ]
  },
  {
   "cell_type": "code",
   "execution_count": 8,
   "metadata": {},
   "outputs": [
    {
     "name": "stdout",
     "output_type": "stream",
     "text": [
      "4000\n"
     ]
    }
   ],
   "source": [
    "# improve example\n",
    "\n",
    "class emplo:\n",
    "    pay_ra = 2\n",
    "    def __init__(self, firstname, familyname, phone, pay):\n",
    "        self.firstname = firstname\n",
    "        self.familyname = familyname\n",
    "        self.phone = phone\n",
    "        self.pay = pay\n",
    "    def __add__(self, other):\n",
    "        return self.pay + other.pay\n",
    "    def fullname(self):\n",
    "        return '{} {}'.format(self.firstname, self.familyname)\n",
    "    def payin(self):\n",
    "        self.pay = int(self.pay * self.pay_ra)\n",
    "        return self.pay \n",
    "\n",
    "\n",
    "class developer(emplo):\n",
    "    def __init__(self, firstname, familyname, phone, pay, prog_lang):\n",
    "        emplo.__init__(self, firstname, familyname, phone, pay)\n",
    "        self.prog_lang = prog_lang\n",
    "\n",
    "\n",
    "a = emplo(\"Hamid\" , \"daneshjo\", 123454, 1000)\n",
    "b = emplo(\"ali\" , \"ahmadi\", 54321, 3000)\n",
    "\n",
    "print(a+b) # sum of pay"
   ]
  },
  {
   "cell_type": "code",
   "execution_count": 8,
   "metadata": {},
   "outputs": [
    {
     "name": "stdout",
     "output_type": "stream",
     "text": [
      "4000\n",
      "-2000\n"
     ]
    }
   ],
   "source": [
    "# improve example\n",
    "\n",
    "class emplo:\n",
    "    pay_ra = 2\n",
    "    def __init__(self, firstname, familyname, phone, pay):\n",
    "        self.firstname = firstname\n",
    "        self.familyname = familyname\n",
    "        self.phone = phone\n",
    "        self.pay = pay\n",
    "    def __add__(self, other):\n",
    "        return self.pay + other.pay\n",
    "    def __sub__(self, other):\n",
    "        return self.pay - other.pay\n",
    "    def fullname(self):\n",
    "        return '{} {}'.format(self.firstname, self.familyname)\n",
    "    def payin(self):\n",
    "        self.pay = int(self.pay * self.pay_ra)\n",
    "        return self.pay \n",
    "\n",
    "\n",
    "class developer(emplo):\n",
    "    def __init__(self, firstname, familyname, phone, pay, prog_lang):\n",
    "        emplo.__init__(self, firstname, familyname, phone, pay)\n",
    "        self.prog_lang = prog_lang\n",
    "\n",
    "\n",
    "a = emplo(\"Hamid\" , \"daneshjo\", 123454, 1000)\n",
    "b = emplo(\"ali\" , \"ahmadi\", 54321, 3000)\n",
    "\n",
    "print(a+b) # sum of pay\n",
    "print(a-b) # sub of pay"
   ]
  },
  {
   "cell_type": "markdown",
   "metadata": {},
   "source": [
    "###### **__ len __**"
   ]
  },
  {
   "cell_type": "code",
   "execution_count": 10,
   "metadata": {},
   "outputs": [
    {
     "data": {
      "text/plain": [
       "5"
      ]
     },
     "execution_count": 10,
     "metadata": {},
     "output_type": "execute_result"
    }
   ],
   "source": [
    "str.__len__(\"hamid\")\n",
    "\n",
    "# print(len(\"hamid\"))"
   ]
  },
  {
   "cell_type": "code",
   "execution_count": 11,
   "metadata": {},
   "outputs": [
    {
     "ename": "TypeError",
     "evalue": "object of type 'emplo' has no len()",
     "output_type": "error",
     "traceback": [
      "\u001b[1;31m---------------------------------------------------------------------------\u001b[0m",
      "\u001b[1;31mTypeError\u001b[0m                                 Traceback (most recent call last)",
      "Cell \u001b[1;32mIn[11], line 28\u001b[0m\n\u001b[0;32m     25\u001b[0m a \u001b[38;5;241m=\u001b[39m emplo(\u001b[38;5;124m\"\u001b[39m\u001b[38;5;124mHamid\u001b[39m\u001b[38;5;124m\"\u001b[39m , \u001b[38;5;124m\"\u001b[39m\u001b[38;5;124mdaneshjo\u001b[39m\u001b[38;5;124m\"\u001b[39m, \u001b[38;5;241m123454\u001b[39m, \u001b[38;5;241m1000\u001b[39m)\n\u001b[0;32m     26\u001b[0m b \u001b[38;5;241m=\u001b[39m emplo(\u001b[38;5;124m\"\u001b[39m\u001b[38;5;124mali\u001b[39m\u001b[38;5;124m\"\u001b[39m , \u001b[38;5;124m\"\u001b[39m\u001b[38;5;124mahmadi\u001b[39m\u001b[38;5;124m\"\u001b[39m, \u001b[38;5;241m54321\u001b[39m, \u001b[38;5;241m3000\u001b[39m)\n\u001b[1;32m---> 28\u001b[0m \u001b[38;5;28mprint\u001b[39m(\u001b[38;5;28mlen\u001b[39m(a))\n",
      "\u001b[1;31mTypeError\u001b[0m: object of type 'emplo' has no len()"
     ]
    }
   ],
   "source": [
    "# improve example\n",
    "\n",
    "class emplo:\n",
    "    pay_ra = 2\n",
    "    def __init__(self, firstname, familyname, phone, pay):\n",
    "        self.firstname = firstname\n",
    "        self.familyname = familyname\n",
    "        self.phone = phone\n",
    "        self.pay = pay\n",
    "    def __add__(self, other):\n",
    "        return self.pay + other.pay\n",
    "    def fullname(self):\n",
    "        return '{} {}'.format(self.firstname, self.familyname)\n",
    "    def payin(self):\n",
    "        self.pay = int(self.pay * self.pay_ra)\n",
    "        return self.pay \n",
    "\n",
    "\n",
    "class developer(emplo):\n",
    "    def __init__(self, firstname, familyname, phone, pay, prog_lang):\n",
    "        emplo.__init__(self, firstname, familyname, phone, pay)\n",
    "        self.prog_lang = prog_lang\n",
    "\n",
    "\n",
    "a = emplo(\"Hamid\" , \"daneshjo\", 123454, 1000)\n",
    "b = emplo(\"ali\" , \"ahmadi\", 54321, 3000)\n",
    "\n",
    "print(len(a))"
   ]
  },
  {
   "cell_type": "markdown",
   "metadata": {},
   "source": [
    "we can't use it like last example\n",
    "\n",
    "so we will build our  `__len__`  function 👇"
   ]
  },
  {
   "cell_type": "code",
   "execution_count": 15,
   "metadata": {},
   "outputs": [
    {
     "name": "stdout",
     "output_type": "stream",
     "text": [
      "14\n"
     ]
    }
   ],
   "source": [
    "# improve example\n",
    "\n",
    "class emplo:\n",
    "    pay_ra = 2\n",
    "    def __init__(self, firstname, familyname, phone, pay):\n",
    "        self.firstname = firstname\n",
    "        self.familyname = familyname\n",
    "        self.phone = phone\n",
    "        self.pay = pay\n",
    "    def __len__(self):\n",
    "        return len(self.fullname())\n",
    "    def fullname(self):\n",
    "        return '{} {}'.format(self.firstname, self.familyname)\n",
    "    def payin(self):\n",
    "        self.pay = int(self.pay * self.pay_ra)\n",
    "        return self.pay \n",
    "\n",
    "\n",
    "class developer(emplo):\n",
    "    def __init__(self, firstname, familyname, phone, pay, prog_lang):\n",
    "        emplo.__init__(self, firstname, familyname, phone, pay)\n",
    "        self.prog_lang = prog_lang\n",
    "\n",
    "\n",
    "a = emplo(\"Hamid\" , \"daneshjo\", 123454, 1000)\n",
    "b = emplo(\"ali\" , \"ahmadi\", 54321, 3000)\n",
    "\n",
    "print(len(a)) # len of fullname"
   ]
  },
  {
   "cell_type": "markdown",
   "metadata": {},
   "source": [
    "if we write a function to do those work like `__add__` or `__len__` \n",
    "\n",
    "we call it : overloading\n",
    "\n",
    "and if those function was exist and we use it like `str.__len__(\"hamid\")`\n",
    "\n",
    "we call it : overriding\n",
    "\n",
    "and we call all these function : magic method"
   ]
  },
  {
   "cell_type": "markdown",
   "metadata": {},
   "source": [
    "###### **__ repr __**"
   ]
  },
  {
   "cell_type": "code",
   "execution_count": 14,
   "metadata": {},
   "outputs": [
    {
     "name": "stdout",
     "output_type": "stream",
     "text": [
      "<__main__.emplo object at 0x000001CC664E3890>\n"
     ]
    }
   ],
   "source": [
    "# example\n",
    "\n",
    "class emplo:\n",
    "    pay_ra = 2\n",
    "    def __init__(self, firstname, familyname, phone, pay):\n",
    "        self.firstname = firstname\n",
    "        self.familyname = familyname\n",
    "        self.phone = phone\n",
    "        self.pay = pay\n",
    "    def __len__(self):\n",
    "        return len(self.fullname())\n",
    "    def __add__(self, other):\n",
    "        return self.pay + other.pay\n",
    "    def __sub__(self, other):\n",
    "        return self.pay - other.pay\n",
    "    def fullname(self):\n",
    "        return '{} {}'.format(self.firstname, self.familyname)\n",
    "    def payin(self):\n",
    "        self.pay = int(self.pay * self.pay_ra)\n",
    "        return self.pay \n",
    "\n",
    "\n",
    "class developer(emplo):\n",
    "    def __init__(self, firstname, familyname, phone, pay, prog_lang):\n",
    "        emplo.__init__(self, firstname, familyname, phone, pay)\n",
    "        self.prog_lang = prog_lang\n",
    "\n",
    "\n",
    "a = emplo(\"Hamid\" , \"daneshjo\", 123454, 1000)\n",
    "b = emplo(\"ali\" , \"ahmadi\", 54321, 3000)\n",
    "\n",
    "print(a)"
   ]
  },
  {
   "cell_type": "markdown",
   "metadata": {},
   "source": [
    "you can see the output this code, but we can improve it with `__rper__` function 👇"
   ]
  },
  {
   "cell_type": "code",
   "execution_count": 15,
   "metadata": {},
   "outputs": [
    {
     "name": "stdout",
     "output_type": "stream",
     "text": [
      "emplo ('Hamid', 'daneshjo', '1000')\n"
     ]
    }
   ],
   "source": [
    "# improve example\n",
    "\n",
    "class emplo:\n",
    "    pay_ra = 2\n",
    "    def __init__(self, firstname, familyname, phone, pay):\n",
    "        self.firstname = firstname\n",
    "        self.familyname = familyname\n",
    "        self.phone = phone\n",
    "        self.pay = pay\n",
    "    def __len__(self):\n",
    "        return len(self.fullname())\n",
    "    def __add__(self, other):\n",
    "        return self.pay + other.pay\n",
    "    def __sub__(self, other):\n",
    "        return self.pay - other.pay\n",
    "    def __repr__(self):\n",
    "        return \"emplo ('{}', '{}', '{}')\".format(self.firstname, self.familyname, self.pay)\n",
    "    def fullname(self):\n",
    "        return '{} {}'.format(self.firstname, self.familyname)\n",
    "    def payin(self):\n",
    "        self.pay = int(self.pay * self.pay_ra)\n",
    "        return self.pay \n",
    "\n",
    "\n",
    "class developer(emplo):\n",
    "    def __init__(self, firstname, familyname, phone, pay, prog_lang):\n",
    "        emplo.__init__(self, firstname, familyname, phone, pay)\n",
    "        self.prog_lang = prog_lang\n",
    "\n",
    "\n",
    "a = emplo(\"Hamid\" , \"daneshjo\", 123454, 1000)\n",
    "b = emplo(\"ali\" , \"ahmadi\", 54321, 3000)\n",
    "\n",
    "print(a)"
   ]
  },
  {
   "cell_type": "code",
   "execution_count": 16,
   "metadata": {},
   "outputs": [
    {
     "name": "stdout",
     "output_type": "stream",
     "text": [
      "emplo ('Hamid', 'daneshjo', '1000')\n"
     ]
    }
   ],
   "source": [
    "# improve example\n",
    "\n",
    "class emplo:\n",
    "    pay_ra = 2\n",
    "    def __init__(self, firstname, familyname, phone, pay):\n",
    "        self.firstname = firstname\n",
    "        self.familyname = familyname\n",
    "        self.phone = phone\n",
    "        self.pay = pay\n",
    "    def __len__(self):\n",
    "        return len(self.fullname())\n",
    "    def __add__(self, other):\n",
    "        return self.pay + other.pay\n",
    "    def __sub__(self, other):\n",
    "        return self.pay - other.pay\n",
    "    def __repr__(self):\n",
    "        return __class__.__name__+\" ('{}', '{}', '{}')\".format(self.firstname, self.familyname, self.pay) # don't need to write 'emplo'\n",
    "    def fullname(self):\n",
    "        return '{} {}'.format(self.firstname, self.familyname)\n",
    "    def payin(self):\n",
    "        self.pay = int(self.pay * self.pay_ra)\n",
    "        return self.pay \n",
    "\n",
    "\n",
    "class developer(emplo):\n",
    "    def __init__(self, firstname, familyname, phone, pay, prog_lang):\n",
    "        emplo.__init__(self, firstname, familyname, phone, pay)\n",
    "        self.prog_lang = prog_lang\n",
    "\n",
    "\n",
    "a = emplo(\"Hamid\" , \"daneshjo\", 123454, 1000)\n",
    "b = emplo(\"ali\" , \"ahmadi\", 54321, 3000)\n",
    "\n",
    "print(a)"
   ]
  },
  {
   "cell_type": "markdown",
   "metadata": {},
   "source": [
    "(this output is for debuger & developer)"
   ]
  },
  {
   "cell_type": "markdown",
   "metadata": {},
   "source": [
    "###### **__ str __**"
   ]
  },
  {
   "cell_type": "markdown",
   "metadata": {},
   "source": [
    "a nother way to show information with `__str__` 👇\n",
    "\n",
    "(this output is for user)"
   ]
  },
  {
   "cell_type": "code",
   "execution_count": 18,
   "metadata": {},
   "outputs": [
    {
     "name": "stdout",
     "output_type": "stream",
     "text": [
      "Hamid daneshjo - 2000\n"
     ]
    }
   ],
   "source": [
    "# example\n",
    "\n",
    "class emplo:\n",
    "    pay_ra = 2\n",
    "    def __init__(self, firstname, familyname, phone, pay):\n",
    "        self.firstname = firstname\n",
    "        self.familyname = familyname\n",
    "        self.phone = phone\n",
    "        self.pay = pay\n",
    "    def __len__(self):\n",
    "        return len(self.fullname())\n",
    "    def __add__(self, other):\n",
    "        return self.pay + other.pay\n",
    "    def __sub__(self, other):\n",
    "        return self.pay - other.pay\n",
    "    def __str__(self):\n",
    "        return '{} - {}'.format(self.fullname(), self.payin())\n",
    "    def fullname(self):\n",
    "        return '{} {}'.format(self.firstname, self.familyname)\n",
    "    def payin(self):\n",
    "        self.pay = int(self.pay * self.pay_ra)\n",
    "        return self.pay \n",
    "\n",
    "\n",
    "class developer(emplo):\n",
    "    def __init__(self, firstname, familyname, phone, pay, prog_lang):\n",
    "        emplo.__init__(self, firstname, familyname, phone, pay)\n",
    "        self.prog_lang = prog_lang\n",
    "\n",
    "\n",
    "a = emplo(\"Hamid\" , \"daneshjo\", 123454, 1000)\n",
    "b = emplo(\"ali\" , \"ahmadi\", 54321, 3000)\n",
    "\n",
    "print(a)"
   ]
  },
  {
   "cell_type": "code",
   "execution_count": 21,
   "metadata": {},
   "outputs": [
    {
     "ename": "TypeError",
     "evalue": "__str__ returned non-string (type NoneType)",
     "output_type": "error",
     "traceback": [
      "\u001b[1;31m---------------------------------------------------------------------------\u001b[0m",
      "\u001b[1;31mTypeError\u001b[0m                                 Traceback (most recent call last)",
      "Cell \u001b[1;32mIn[21], line 34\u001b[0m\n\u001b[0;32m     31\u001b[0m a \u001b[38;5;241m=\u001b[39m emplo(\u001b[38;5;124m\"\u001b[39m\u001b[38;5;124mHamid\u001b[39m\u001b[38;5;124m\"\u001b[39m , \u001b[38;5;124m\"\u001b[39m\u001b[38;5;124mdaneshjo\u001b[39m\u001b[38;5;124m\"\u001b[39m, \u001b[38;5;241m123454\u001b[39m, \u001b[38;5;241m1000\u001b[39m)\n\u001b[0;32m     32\u001b[0m b \u001b[38;5;241m=\u001b[39m emplo(\u001b[38;5;124m\"\u001b[39m\u001b[38;5;124mali\u001b[39m\u001b[38;5;124m\"\u001b[39m , \u001b[38;5;124m\"\u001b[39m\u001b[38;5;124mahmadi\u001b[39m\u001b[38;5;124m\"\u001b[39m, \u001b[38;5;241m54321\u001b[39m, \u001b[38;5;241m3000\u001b[39m)\n\u001b[1;32m---> 34\u001b[0m \u001b[38;5;28mprint\u001b[39m(a)\n",
      "\u001b[1;31mTypeError\u001b[0m: __str__ returned non-string (type NoneType)"
     ]
    }
   ],
   "source": [
    "# improve example\n",
    "\n",
    "class emplo:\n",
    "    pay_ra = 2\n",
    "    def __init__(self, firstname, familyname, phone, pay):\n",
    "        self.firstname = firstname\n",
    "        self.familyname = familyname\n",
    "        self.phone = phone\n",
    "        self.pay = pay\n",
    "    def __len__(self):\n",
    "        return len(self.fullname())\n",
    "    def __add__(self, other):\n",
    "        return self.pay + other.pay\n",
    "    def __sub__(self, other):\n",
    "        return self.pay - other.pay\n",
    "    def __str__(self):\n",
    "        pass\n",
    "    def fullname(self):\n",
    "        return '{} {}'.format(self.firstname, self.familyname)\n",
    "    def payin(self):\n",
    "        self.pay = int(self.pay * self.pay_ra)\n",
    "        return self.pay \n",
    "\n",
    "\n",
    "class developer(emplo):\n",
    "    def __init__(self, firstname, familyname, phone, pay, prog_lang):\n",
    "        emplo.__init__(self, firstname, familyname, phone, pay)\n",
    "        self.prog_lang = prog_lang\n",
    "\n",
    "\n",
    "a = emplo(\"Hamid\" , \"daneshjo\", 123454, 1000)\n",
    "b = emplo(\"ali\" , \"ahmadi\", 54321, 3000)\n",
    "\n",
    "print(a)"
   ]
  },
  {
   "cell_type": "markdown",
   "metadata": {},
   "source": [
    "if we write on of these function `__rper__` or `__str__` and `pass` them, we got error.\n",
    "but we can don't write it.\n",
    "\n",
    "and also we can write like this :"
   ]
  },
  {
   "cell_type": "code",
   "execution_count": 23,
   "metadata": {},
   "outputs": [
    {
     "name": "stdout",
     "output_type": "stream",
     "text": [
      "emplo ('Hamid', 'daneshjo', '1000')\n",
      "Hamid daneshjo - 2000\n"
     ]
    }
   ],
   "source": [
    "# improve example\n",
    "\n",
    "class emplo:\n",
    "    pay_ra = 2\n",
    "    def __init__(self, firstname, familyname, phone, pay):\n",
    "        self.firstname = firstname\n",
    "        self.familyname = familyname\n",
    "        self.phone = phone\n",
    "        self.pay = pay\n",
    "    def __len__(self):\n",
    "        return len(self.fullname())\n",
    "    def __add__(self, other):\n",
    "        return self.pay + other.pay\n",
    "    def __sub__(self, other):\n",
    "        return self.pay - other.pay\n",
    "    def __str__(self):\n",
    "        return '{} - {}'.format(self.fullname(), self.payin())\n",
    "    def __repr__(self):\n",
    "        return __class__.__name__+\" ('{}', '{}', '{}')\".format(self.firstname, self.familyname, self.pay)\n",
    "    def fullname(self):\n",
    "        return '{} {}'.format(self.firstname, self.familyname)\n",
    "    def payin(self):\n",
    "        self.pay = int(self.pay * self.pay_ra)\n",
    "        return self.pay \n",
    "\n",
    "\n",
    "class developer(emplo):\n",
    "    def __init__(self, firstname, familyname, phone, pay, prog_lang):\n",
    "        emplo.__init__(self, firstname, familyname, phone, pay)\n",
    "        self.prog_lang = prog_lang\n",
    "\n",
    "\n",
    "a = emplo(\"Hamid\" , \"daneshjo\", 123454, 1000)\n",
    "b = emplo(\"ali\" , \"ahmadi\", 54321, 3000)\n",
    "\n",
    "print(repr(a))\n",
    "print(str(a))"
   ]
  },
  {
   "cell_type": "markdown",
   "metadata": {},
   "source": [
    "or"
   ]
  },
  {
   "cell_type": "code",
   "execution_count": 25,
   "metadata": {},
   "outputs": [
    {
     "name": "stdout",
     "output_type": "stream",
     "text": [
      "emplo ('Hamid', 'daneshjo', '1000')\n",
      "Hamid daneshjo - 2000\n"
     ]
    }
   ],
   "source": [
    "# improve example\n",
    "\n",
    "class emplo:\n",
    "    pay_ra = 2\n",
    "    def __init__(self, firstname, familyname, phone, pay):\n",
    "        self.firstname = firstname\n",
    "        self.familyname = familyname\n",
    "        self.phone = phone\n",
    "        self.pay = pay\n",
    "    def __len__(self):\n",
    "        return len(self.fullname())\n",
    "    def __add__(self, other):\n",
    "        return self.pay + other.pay\n",
    "    def __sub__(self, other):\n",
    "        return self.pay - other.pay\n",
    "    def __str__(self):\n",
    "        return '{} - {}'.format(self.fullname(), self.payin())\n",
    "    def __repr__(self):\n",
    "        return __class__.__name__+\" ('{}', '{}', '{}')\".format(self.firstname, self.familyname, self.pay)\n",
    "    def fullname(self):\n",
    "        return '{} {}'.format(self.firstname, self.familyname)\n",
    "    def payin(self):\n",
    "        self.pay = int(self.pay * self.pay_ra)\n",
    "        return self.pay \n",
    "\n",
    "\n",
    "class developer(emplo):\n",
    "    def __init__(self, firstname, familyname, phone, pay, prog_lang):\n",
    "        emplo.__init__(self, firstname, familyname, phone, pay)\n",
    "        self.prog_lang = prog_lang\n",
    "\n",
    "\n",
    "a = emplo(\"Hamid\" , \"daneshjo\", 123454, 1000)\n",
    "b = emplo(\"ali\" , \"ahmadi\", 54321, 3000)\n",
    "\n",
    "print(a.__repr__())\n",
    "print(a.__str__())"
   ]
  },
  {
   "cell_type": "markdown",
   "metadata": {},
   "source": [
    "### Abstraction and Polymorphism"
   ]
  },
  {
   "cell_type": "markdown",
   "metadata": {},
   "source": [
    "#### Polymorphism"
   ]
  },
  {
   "cell_type": "code",
   "execution_count": 1,
   "metadata": {},
   "outputs": [
    {
     "name": "stdout",
     "output_type": "stream",
     "text": [
      "3\n"
     ]
    }
   ],
   "source": [
    "print(len(\"hhh\"))"
   ]
  },
  {
   "cell_type": "code",
   "execution_count": 2,
   "metadata": {},
   "outputs": [
    {
     "name": "stdout",
     "output_type": "stream",
     "text": [
      "3\n"
     ]
    }
   ],
   "source": [
    "print(len([40,30,100]))"
   ]
  },
  {
   "cell_type": "markdown",
   "metadata": {},
   "source": [
    "we can see , we used `len()` for string inpute and list input , but it was different , means : in string it count pharas , but in list , it count numbers (same function , different output)\n",
    "\n",
    "we call it **Polymorphism**"
   ]
  },
  {
   "cell_type": "code",
   "execution_count": 6,
   "metadata": {},
   "outputs": [
    {
     "name": "stdout",
     "output_type": "stream",
     "text": [
      "tehran\n",
      "persian\n",
      "washington D.C\n",
      "english\n"
     ]
    }
   ],
   "source": [
    "# example\n",
    "\n",
    "class iran:\n",
    "    def capital(self):\n",
    "        print(\"tehran\")\n",
    "    def language(self):\n",
    "        print(\"persian\")\n",
    "\n",
    "class usa:\n",
    "    def capital(self):\n",
    "        print(\"washington D.C\")\n",
    "    def language(self):\n",
    "        print(\"english\")\n",
    "\n",
    "\n",
    "a = iran()\n",
    "b = usa()\n",
    "\n",
    "for cc in (a,b):\n",
    "    cc.capital()\n",
    "    cc.language()"
   ]
  },
  {
   "cell_type": "code",
   "execution_count": 8,
   "metadata": {},
   "outputs": [
    {
     "name": "stdout",
     "output_type": "stream",
     "text": [
      "tehran\n",
      "persian\n",
      "washington D.C\n",
      "english\n"
     ]
    }
   ],
   "source": [
    "# improve example\n",
    "\n",
    "class iran:\n",
    "    def capital(self):\n",
    "        print(\"tehran\")\n",
    "    def language(self):\n",
    "        print(\"persian\")\n",
    "\n",
    "class usa:\n",
    "    def capital(self):\n",
    "        print(\"washington D.C\")\n",
    "    def language(self):\n",
    "        print(\"english\")\n",
    "\n",
    "\n",
    "def func(ob):\n",
    "    ob.capital()\n",
    "    ob.language()\n",
    "\n",
    "a = iran()\n",
    "b = usa()\n",
    "\n",
    "func(a)\n",
    "func(b)"
   ]
  },
  {
   "cell_type": "code",
   "execution_count": 10,
   "metadata": {},
   "outputs": [
    {
     "name": "stdout",
     "output_type": "stream",
     "text": [
      "tehran\n",
      "persian\n",
      "developing country\n",
      "washington D.C\n",
      "english\n",
      "developed country\n"
     ]
    }
   ],
   "source": [
    "# improve example\n",
    "\n",
    "class iran:\n",
    "    def capital(self):\n",
    "        print(\"tehran\")\n",
    "    def language(self):\n",
    "        print(\"persian\")\n",
    "    def type(slef):\n",
    "        print(\"developing country\")\n",
    "\n",
    "class usa:\n",
    "    def capital(self):\n",
    "        print(\"washington D.C\")\n",
    "    def language(self):\n",
    "        print(\"english\")\n",
    "    def type(slef):\n",
    "        print(\"developed country\")\n",
    "\n",
    "\n",
    "def func(ob):\n",
    "    ob.capital()\n",
    "    ob.language()\n",
    "    ob.type()\n",
    "\n",
    "a = iran()\n",
    "b = usa()\n",
    "\n",
    "func(a)\n",
    "func(b)"
   ]
  },
  {
   "cell_type": "code",
   "execution_count": 11,
   "metadata": {},
   "outputs": [
    {
     "name": "stdout",
     "output_type": "stream",
     "text": [
      "we have many types of the bird\n",
      "most of the birf can flight\n",
      "we have many types of the bird\n",
      "can fly\n",
      "we have many types of the bird\n",
      "can't fly\n"
     ]
    }
   ],
   "source": [
    "class bird:\n",
    "    def exmplain(self):\n",
    "        print(\"we have many types of the bird\")\n",
    "    def flight(self):\n",
    "        print(\"most of the birf can flight\")\n",
    "\n",
    "class sparrow(bird):\n",
    "    def flight(self):\n",
    "        print(\"can fly\")\n",
    "\n",
    "class ostrich(bird):\n",
    "    def flight(self):\n",
    "        print(\"can't fly\")\n",
    "\n",
    "\n",
    "a = bird()\n",
    "b = sparrow()\n",
    "c = ostrich()\n",
    "\n",
    "a.exmplain()\n",
    "a.flight()\n",
    "\n",
    "b.exmplain()\n",
    "b.flight()\n",
    "\n",
    "c.exmplain()\n",
    "c.flight()"
   ]
  },
  {
   "cell_type": "markdown",
   "metadata": {},
   "source": [
    "#### Abstraction"
   ]
  },
  {
   "cell_type": "markdown",
   "metadata": {},
   "source": [
    "in this example , we did't explain `process` in computer class , but we can explain it in other class. this example is about developer in team."
   ]
  },
  {
   "cell_type": "code",
   "execution_count": 2,
   "metadata": {},
   "outputs": [
    {
     "name": "stdout",
     "output_type": "stream",
     "text": [
      "i solving problems\n",
      "i am running on the pc\n"
     ]
    }
   ],
   "source": [
    "class computer:\n",
    "    def process(self):\n",
    "        pass\n",
    "\n",
    "class laptop(computer):\n",
    "    def process(self):\n",
    "        print(\"i am running on the laptop\")\n",
    "class pc(computer):\n",
    "    def process(self):\n",
    "        print(\"i am running on the pc\")\n",
    "\n",
    "class programming:\n",
    "    def work(self, com):\n",
    "        print(\"i solving problems\")\n",
    "        com.process()\n",
    "\n",
    "com1 = pc()\n",
    "prog = programming()\n",
    "prog.work(com1)"
   ]
  },
  {
   "cell_type": "code",
   "execution_count": null,
   "metadata": {},
   "outputs": [],
   "source": [
    "# improve example\n",
    "\n",
    "class computer:\n",
    "    def process(self):\n",
    "        pass\n",
    "\n",
    "class laptop(computer):\n",
    "    def process(self):\n",
    "        print(\"i am running on the laptop\")\n",
    "class pc(computer):\n",
    "    def process(self):\n",
    "        print(\"i am running on the pc\")\n",
    "\n",
    "class programming:\n",
    "    def work(self, com):\n",
    "        print(\"i solving problems\")\n",
    "        com.process()\n",
    "\n",
    "com = computer()\n",
    "com.process()\n",
    "# output is nothing (pass)"
   ]
  },
  {
   "cell_type": "code",
   "execution_count": null,
   "metadata": {},
   "outputs": [
    {
     "ename": "TypeError",
     "evalue": "Can't instantiate abstract class computer without an implementation for abstract method 'process'",
     "output_type": "error",
     "traceback": [
      "\u001b[1;31m---------------------------------------------------------------------------\u001b[0m",
      "\u001b[1;31mTypeError\u001b[0m                                 Traceback (most recent call last)",
      "Cell \u001b[1;32mIn[6], line 22\u001b[0m\n\u001b[0;32m     19\u001b[0m         \u001b[38;5;28mprint\u001b[39m(\u001b[38;5;124m\"\u001b[39m\u001b[38;5;124mi solving problems\u001b[39m\u001b[38;5;124m\"\u001b[39m)\n\u001b[0;32m     20\u001b[0m         com\u001b[38;5;241m.\u001b[39mprocess()\n\u001b[1;32m---> 22\u001b[0m com \u001b[38;5;241m=\u001b[39m \u001b[43mcomputer\u001b[49m\u001b[43m(\u001b[49m\u001b[43m)\u001b[49m\n\u001b[0;32m     23\u001b[0m com\u001b[38;5;241m.\u001b[39mprocess()\n\u001b[0;32m     24\u001b[0m \u001b[38;5;66;03m# now we got error and it's good and logic.\u001b[39;00m\n",
      "\u001b[1;31mTypeError\u001b[0m: Can't instantiate abstract class computer without an implementation for abstract method 'process'"
     ]
    }
   ],
   "source": [
    "# improve example\n",
    "\n",
    "from abc import ABC, abstractmethod\n",
    "\n",
    "class computer(ABC):\n",
    "    @abstractmethod\n",
    "    def process(self):\n",
    "        pass\n",
    "\n",
    "class laptop(computer):\n",
    "    def process(self):\n",
    "        print(\"i am running on the laptop\")\n",
    "class pc(computer):\n",
    "    def process(self):\n",
    "        print(\"i am running on the pc\")\n",
    "\n",
    "class programming:\n",
    "    def work(self, com):\n",
    "        print(\"i solving problems\")\n",
    "        com.process()\n",
    "\n",
    "com = computer()\n",
    "com.process()\n",
    "# now we got error and it's good and logic , we used abstractmethod now."
   ]
  },
  {
   "cell_type": "code",
   "execution_count": null,
   "metadata": {},
   "outputs": [
    {
     "name": "stdout",
     "output_type": "stream",
     "text": [
      "i solving problems\n"
     ]
    },
    {
     "ename": "AttributeError",
     "evalue": "'whiteboard' object has no attribute 'process'",
     "output_type": "error",
     "traceback": [
      "\u001b[1;31m---------------------------------------------------------------------------\u001b[0m",
      "\u001b[1;31mAttributeError\u001b[0m                            Traceback (most recent call last)",
      "Cell \u001b[1;32mIn[7], line 28\u001b[0m\n\u001b[0;32m     26\u001b[0m w \u001b[38;5;241m=\u001b[39m whiteboard()\n\u001b[0;32m     27\u001b[0m prog \u001b[38;5;241m=\u001b[39m programming()\n\u001b[1;32m---> 28\u001b[0m \u001b[43mprog\u001b[49m\u001b[38;5;241;43m.\u001b[39;49m\u001b[43mwork\u001b[49m\u001b[43m(\u001b[49m\u001b[43mw\u001b[49m\u001b[43m)\u001b[49m\n",
      "Cell \u001b[1;32mIn[7], line 24\u001b[0m, in \u001b[0;36mprogramming.work\u001b[1;34m(self, com)\u001b[0m\n\u001b[0;32m     22\u001b[0m \u001b[38;5;28;01mdef\u001b[39;00m\u001b[38;5;250m \u001b[39m\u001b[38;5;21mwork\u001b[39m(\u001b[38;5;28mself\u001b[39m, com):\n\u001b[0;32m     23\u001b[0m     \u001b[38;5;28mprint\u001b[39m(\u001b[38;5;124m\"\u001b[39m\u001b[38;5;124mi solving problems\u001b[39m\u001b[38;5;124m\"\u001b[39m)\n\u001b[1;32m---> 24\u001b[0m     \u001b[43mcom\u001b[49m\u001b[38;5;241;43m.\u001b[39;49m\u001b[43mprocess\u001b[49m()\n",
      "\u001b[1;31mAttributeError\u001b[0m: 'whiteboard' object has no attribute 'process'"
     ]
    }
   ],
   "source": [
    "# improve example\n",
    "\n",
    "from abc import ABC, abstractmethod\n",
    "\n",
    "class computer(ABC):\n",
    "    @abstractmethod\n",
    "    def process(self):\n",
    "        pass\n",
    "\n",
    "class laptop(computer):\n",
    "    def process(self):\n",
    "        print(\"i am running on the laptop\")\n",
    "class pc(computer):\n",
    "    def process(self):\n",
    "        print(\"i am running on the pc\")\n",
    "\n",
    "class whiteboard:\n",
    "    def write(self):\n",
    "        print(\"it is writing\")\n",
    "\n",
    "class programming:\n",
    "    def work(self, com):\n",
    "        print(\"i solving problems\")\n",
    "        com.process()\n",
    "\n",
    "w = whiteboard()\n",
    "prog = programming()\n",
    "prog.work(w)\n",
    "# we got error , because we did't explain process for whiteboard"
   ]
  },
  {
   "cell_type": "code",
   "execution_count": null,
   "metadata": {},
   "outputs": [
    {
     "ename": "TypeError",
     "evalue": "Can't instantiate abstract class whiteboard without an implementation for abstract method 'process'",
     "output_type": "error",
     "traceback": [
      "\u001b[1;31m---------------------------------------------------------------------------\u001b[0m",
      "\u001b[1;31mTypeError\u001b[0m                                 Traceback (most recent call last)",
      "Cell \u001b[1;32mIn[10], line 26\u001b[0m\n\u001b[0;32m     23\u001b[0m         \u001b[38;5;28mprint\u001b[39m(\u001b[38;5;124m\"\u001b[39m\u001b[38;5;124mi solving problems\u001b[39m\u001b[38;5;124m\"\u001b[39m)\n\u001b[0;32m     24\u001b[0m         com\u001b[38;5;241m.\u001b[39mprocess()\n\u001b[1;32m---> 26\u001b[0m w \u001b[38;5;241m=\u001b[39m \u001b[43mwhiteboard\u001b[49m\u001b[43m(\u001b[49m\u001b[43m)\u001b[49m\n\u001b[0;32m     27\u001b[0m prog \u001b[38;5;241m=\u001b[39m programming()\n\u001b[0;32m     28\u001b[0m prog\u001b[38;5;241m.\u001b[39mwork(w)\n",
      "\u001b[1;31mTypeError\u001b[0m: Can't instantiate abstract class whiteboard without an implementation for abstract method 'process'"
     ]
    }
   ],
   "source": [
    "# improve example\n",
    "\n",
    "from abc import ABC, abstractmethod\n",
    "\n",
    "class computer(ABC):\n",
    "    @abstractmethod\n",
    "    def process(self):\n",
    "        pass\n",
    "\n",
    "class laptop(computer):\n",
    "    def process(self):\n",
    "        print(\"i am running on the laptop\")\n",
    "class pc(computer):\n",
    "    def process(self):\n",
    "        print(\"i am running on the pc\")\n",
    "\n",
    "class whiteboard(computer):\n",
    "    def write(self):\n",
    "        print(\"it is writing\")\n",
    "\n",
    "class programming:\n",
    "    def work(self, com):\n",
    "        print(\"i solving problems\")\n",
    "        com.process()\n",
    "\n",
    "w = whiteboard()\n",
    "prog = programming()\n",
    "prog.work(w)\n",
    "# we got error , because we used process in programming class , and it's related to computer class process def and it's empty , so we got error."
   ]
  },
  {
   "cell_type": "code",
   "execution_count": null,
   "metadata": {},
   "outputs": [
    {
     "name": "stdout",
     "output_type": "stream",
     "text": [
      "i solving problems\n",
      "it is writing\n"
     ]
    }
   ],
   "source": [
    "# improve example\n",
    "\n",
    "from abc import ABC, abstractmethod\n",
    "\n",
    "class computer(ABC):\n",
    "    @abstractmethod\n",
    "    def process(self):\n",
    "        pass\n",
    "\n",
    "class laptop(computer):\n",
    "    def process(self):\n",
    "        print(\"i am running on the laptop\")\n",
    "class pc(computer):\n",
    "    def process(self):\n",
    "        print(\"i am running on the pc\")\n",
    "\n",
    "class whiteboard(computer):\n",
    "    def process(self):\n",
    "        print(\"it is writing\")\n",
    "\n",
    "class programming:\n",
    "    def work(self, com):\n",
    "        print(\"i solving problems\")\n",
    "        com.process()\n",
    "\n",
    "w = whiteboard()\n",
    "prog = programming()\n",
    "prog.work(w)\n",
    "# now we got answer"
   ]
  },
  {
   "cell_type": "markdown",
   "metadata": {},
   "source": [
    "we can make creat many abstraction class , and we can use it in many class.\n",
    "\n",
    "it's looks like a programming team in a company , we have team 1 and team 2 and team 3 , they work independent of each other , just they connect to the manager and if they need they helps , they can give there outputs to each othere"
   ]
  },
  {
   "cell_type": "code",
   "execution_count": 19,
   "metadata": {},
   "outputs": [
    {
     "name": "stdout",
     "output_type": "stream",
     "text": [
      "2032.2\n",
      "4100\n"
     ]
    }
   ],
   "source": [
    "from abc import ABC, abstractmethod\n",
    "\n",
    "class payment(ABC):\n",
    "    @abstractmethod\n",
    "    def earning(self):\n",
    "        pass\n",
    "\n",
    "class emplo:\n",
    "    pay_ra = 2\n",
    "    def __init__(self, firstname, familyname, pay):\n",
    "        self.firstname = firstname\n",
    "        self.familyname = familyname\n",
    "        self.pay = pay\n",
    "    def __len__(self):\n",
    "        return len(self.fullname())\n",
    "    def __add__(self, other):\n",
    "        return self.pay + other.pay\n",
    "    def __sub__(self, other):\n",
    "        return self.pay - other.pay\n",
    "    def __str__(self):\n",
    "        return '{} - {}'.format(self.fullname(), self.payin())\n",
    "    def __repr__(self):\n",
    "        return __class__.__name__+\" ('{}', '{}', '{}')\".format(self.firstname, self.familyname, self.pay)\n",
    "    def fullname(self):\n",
    "        return '{} {}'.format(self.firstname, self.familyname)\n",
    "    def payin(self):\n",
    "        self.pay = int(self.pay * self.pay_ra)\n",
    "        return self.pay \n",
    "\n",
    "\n",
    "class developer(emplo, payment):\n",
    "    def __init__(self, firstname, familyname, pay, prog_lang, overtime):\n",
    "        emplo.__init__(self, firstname, familyname, pay)\n",
    "        self.prog_lang = prog_lang\n",
    "        self.overtime = overtime\n",
    "    def earning(self):\n",
    "        return self.pay + 1.4 *(self.overtime)\n",
    "\n",
    "class manager(emplo, payment):\n",
    "    def __init__(self, first, last, pay, overtime,  employees = None):\n",
    "        self.overtime = overtime\n",
    "        super(manager, self).__init__(first, last, pay)\n",
    "        if employees is None:\n",
    "            self.employees = []\n",
    "        else :\n",
    "            self.employees = employees\n",
    "    def earning(self):\n",
    "        return self.pay + 2 *(self.overtime) \n",
    "    def add_emps(self, emp):\n",
    "        if emp not in self.employees:\n",
    "            self.employees.append(emp)\n",
    "    def remove_emp(self, emp):\n",
    "        if emp in self.employees:\n",
    "            self.employees.remove(emp)\n",
    "    def print_emps(self):\n",
    "        for emp in self.employees:\n",
    "            print(\"--\", emp.fullname())\n",
    "\n",
    "\n",
    "\n",
    "dev = developer(\"hamid\", \"najafi\" , 2000 , \"python\" , 23)\n",
    "mgmt = manager(\"ali\" , \"daneshjo\", 4000 , 50)\n",
    "print(dev.earning())\n",
    "print(mgmt.earning())"
   ]
  },
  {
   "cell_type": "markdown",
   "metadata": {},
   "source": [
    "### Property Decorator , Getter , Setter and Deleter"
   ]
  },
  {
   "cell_type": "code",
   "execution_count": 4,
   "metadata": {},
   "outputs": [
    {
     "name": "stdout",
     "output_type": "stream",
     "text": [
      "hamid\n",
      "hamid.najafi@company.com\n",
      "hamid najafi\n"
     ]
    }
   ],
   "source": [
    "from abc import ABC, abstractmethod\n",
    "\n",
    "class payment(ABC):\n",
    "    @abstractmethod\n",
    "    def earning(self):\n",
    "        pass\n",
    "\n",
    "class emplo:\n",
    "    pay_ra = 2\n",
    "    def __init__(self, firstname, familyname, pay):\n",
    "        self.firstname = firstname\n",
    "        self.familyname = familyname\n",
    "        self.pay = pay\n",
    "        self.mail = firstname + \".\" + familyname + \"@company.com\"\n",
    "        __init__ = 10\n",
    "    def __len__(self):\n",
    "        return len(self.fullname())\n",
    "    def __add__(self, other):\n",
    "        return self.pay + other.pay\n",
    "    def __sub__(self, other):\n",
    "        return self.pay - other.pay\n",
    "    def __str__(self):\n",
    "        return '{} - {}'.format(self.fullname(), self.payin())\n",
    "    def __repr__(self):\n",
    "        return __class__.__name__+\" ('{}', '{}', '{}')\".format(self.firstname, self.familyname, self.pay)\n",
    "    def fullname(self):\n",
    "        return '{} {}'.format(self.firstname, self.familyname)\n",
    "    def payin(self):\n",
    "        self.pay = int(self.pay * self.pay_ra)\n",
    "        return self.pay \n",
    "\n",
    "\n",
    "class developer(emplo, payment):\n",
    "    def __init__(self, firstname, familyname, pay, prog_lang, overtime):\n",
    "        emplo.__init__(self, firstname, familyname, pay)\n",
    "        self.prog_lang = prog_lang\n",
    "        self.overtime = overtime\n",
    "    def earning(self):\n",
    "        return self.pay + 1.4 *(self.overtime)\n",
    "\n",
    "class manager(emplo, payment):\n",
    "    def __init__(self, first, last, pay, overtime,  employees = None):\n",
    "        self.overtime = overtime\n",
    "        super(manager, self).__init__(first, last, pay)\n",
    "        if employees is None:\n",
    "            self.employees = []\n",
    "        else :\n",
    "            self.employees = employees\n",
    "    def earning(self):\n",
    "        return self.pay + 2 *(self.overtime) \n",
    "    def add_emps(self, emp):\n",
    "        if emp not in self.employees:\n",
    "            self.employees.append(emp)\n",
    "    def remove_emp(self, emp):\n",
    "        if emp in self.employees:\n",
    "            self.employees.remove(emp)\n",
    "    def print_emps(self):\n",
    "        for emp in self.employees:\n",
    "            print(\"--\", emp.fullname())\n",
    "\n",
    "\n",
    "\n",
    "emp = emplo(\"hamid\", \"najafi\", 2000)\n",
    "print(emp.firstname)\n",
    "print(emp.mail)\n",
    "print(emp.fullname())"
   ]
  },
  {
   "cell_type": "code",
   "execution_count": null,
   "metadata": {},
   "outputs": [
    {
     "name": "stdout",
     "output_type": "stream",
     "text": [
      "ali\n",
      "hamid.najafi@company.com\n",
      "ali najafi\n"
     ]
    }
   ],
   "source": [
    "# improve example\n",
    "\n",
    "from abc import ABC, abstractmethod\n",
    "\n",
    "class payment(ABC):\n",
    "    @abstractmethod\n",
    "    def earning(self):\n",
    "        pass\n",
    "\n",
    "class emplo:\n",
    "    pay_ra = 2\n",
    "    def __init__(self, firstname, familyname, pay):\n",
    "        self.firstname = firstname\n",
    "        self.familyname = familyname\n",
    "        self.pay = pay\n",
    "        self.mail = firstname + \".\" + familyname + \"@company.com\"\n",
    "        __init__ = 10\n",
    "    def __len__(self):\n",
    "        return len(self.fullname())\n",
    "    def __add__(self, other):\n",
    "        return self.pay + other.pay\n",
    "    def __sub__(self, other):\n",
    "        return self.pay - other.pay\n",
    "    def __str__(self):\n",
    "        return '{} - {}'.format(self.fullname(), self.payin())\n",
    "    def __repr__(self):\n",
    "        return __class__.__name__+\" ('{}', '{}', '{}')\".format(self.firstname, self.familyname, self.pay)\n",
    "    def fullname(self):\n",
    "        return '{} {}'.format(self.firstname, self.familyname)\n",
    "    def payin(self):\n",
    "        self.pay = int(self.pay * self.pay_ra)\n",
    "        return self.pay \n",
    "\n",
    "\n",
    "class developer(emplo, payment):\n",
    "    def __init__(self, firstname, familyname, pay, prog_lang, overtime):\n",
    "        emplo.__init__(self, firstname, familyname, pay)\n",
    "        self.prog_lang = prog_lang\n",
    "        self.overtime = overtime\n",
    "    def earning(self):\n",
    "        return self.pay + 1.4 *(self.overtime)\n",
    "\n",
    "class manager(emplo, payment):\n",
    "    def __init__(self, first, last, pay, overtime,  employees = None):\n",
    "        self.overtime = overtime\n",
    "        super(manager, self).__init__(first, last, pay)\n",
    "        if employees is None:\n",
    "            self.employees = []\n",
    "        else :\n",
    "            self.employees = employees\n",
    "    def earning(self):\n",
    "        return self.pay + 2 *(self.overtime) \n",
    "    def add_emps(self, emp):\n",
    "        if emp not in self.employees:\n",
    "            self.employees.append(emp)\n",
    "    def remove_emp(self, emp):\n",
    "        if emp in self.employees:\n",
    "            self.employees.remove(emp)\n",
    "    def print_emps(self):\n",
    "        for emp in self.employees:\n",
    "            print(\"--\", emp.fullname())\n",
    "\n",
    "\n",
    "# if we change the firstname\n",
    "emp = emplo(\"hamid\", \"najafi\", 2000)\n",
    "\n",
    "emp.firstname  = \"ali\"\n",
    "print(emp.firstname)\n",
    "print(emp.mail)\n",
    "print(emp.fullname())\n",
    "# in output we can see the firstname and fullname has change but the email hasn't , mean the eamil hasn't update"
   ]
  },
  {
   "cell_type": "code",
   "execution_count": 7,
   "metadata": {},
   "outputs": [
    {
     "name": "stdout",
     "output_type": "stream",
     "text": [
      "ali\n",
      "ali.najafi@company.com\n",
      "ali najafi\n"
     ]
    }
   ],
   "source": [
    "# improve example\n",
    "\n",
    "from abc import ABC, abstractmethod\n",
    "\n",
    "class payment(ABC):\n",
    "    @abstractmethod\n",
    "    def earning(self):\n",
    "        pass\n",
    "\n",
    "class emplo:\n",
    "    pay_ra = 2\n",
    "    def __init__(self, firstname, familyname, pay):\n",
    "        self.firstname = firstname\n",
    "        self.familyname = familyname\n",
    "        self.pay = pay\n",
    "        __init__ = 10\n",
    "    def __len__(self):\n",
    "        return len(self.fullname())\n",
    "    def __add__(self, other):\n",
    "        return self.pay + other.pay\n",
    "    def __sub__(self, other):\n",
    "        return self.pay - other.pay\n",
    "    def __str__(self):\n",
    "        return '{} - {}'.format(self.fullname(), self.payin())\n",
    "    def __repr__(self):\n",
    "        return __class__.__name__+\" ('{}', '{}', '{}')\".format(self.firstname, self.familyname, self.pay)\n",
    "    def fullname(self):\n",
    "        return '{} {}'.format(self.firstname, self.familyname)\n",
    "    def mail(self):                                                            # we creat a mail def for that problem\n",
    "        return '{}.{}@company.com'.format(self.firstname, self.familyname)\n",
    "    def payin(self):\n",
    "        self.pay = int(self.pay * self.pay_ra)\n",
    "        return self.pay \n",
    "\n",
    "\n",
    "class developer(emplo, payment):\n",
    "    def __init__(self, firstname, familyname, pay, prog_lang, overtime):\n",
    "        emplo.__init__(self, firstname, familyname, pay)\n",
    "        self.prog_lang = prog_lang\n",
    "        self.overtime = overtime\n",
    "    def earning(self):\n",
    "        return self.pay + 1.4 *(self.overtime)\n",
    "\n",
    "class manager(emplo, payment):\n",
    "    def __init__(self, first, last, pay, overtime,  employees = None):\n",
    "        self.overtime = overtime\n",
    "        super(manager, self).__init__(first, last, pay)\n",
    "        if employees is None:\n",
    "            self.employees = []\n",
    "        else :\n",
    "            self.employees = employees\n",
    "    def earning(self):\n",
    "        return self.pay + 2 *(self.overtime) \n",
    "    def add_emps(self, emp):\n",
    "        if emp not in self.employees:\n",
    "            self.employees.append(emp)\n",
    "    def remove_emp(self, emp):\n",
    "        if emp in self.employees:\n",
    "            self.employees.remove(emp)\n",
    "    def print_emps(self):\n",
    "        for emp in self.employees:\n",
    "            print(\"--\", emp.fullname())\n",
    "\n",
    "\n",
    "\n",
    "emp = emplo(\"hamid\", \"najafi\", 2000)\n",
    "emp.firstname  = \"ali\"\n",
    "print(emp.firstname)\n",
    "print(emp.mail())\n",
    "print(emp.fullname())\n",
    "# now it's true , when we creat a mail def"
   ]
  },
  {
   "cell_type": "code",
   "execution_count": null,
   "metadata": {},
   "outputs": [
    {
     "name": "stdout",
     "output_type": "stream",
     "text": [
      "ali\n",
      "ali.najafi@company.com\n",
      "ali najafi\n"
     ]
    }
   ],
   "source": [
    "# improve example\n",
    "\n",
    "from abc import ABC, abstractmethod\n",
    "\n",
    "class payment(ABC):\n",
    "    @abstractmethod\n",
    "    def earning(self):\n",
    "        pass\n",
    "\n",
    "class emplo:\n",
    "    pay_ra = 2\n",
    "    def __init__(self, firstname, familyname, pay):\n",
    "        self.firstname = firstname\n",
    "        self.familyname = familyname\n",
    "        self.pay = pay\n",
    "        __init__ = 10\n",
    "    def __len__(self):\n",
    "        return len(self.fullname())\n",
    "    def __add__(self, other):\n",
    "        return self.pay + other.pay\n",
    "    def __sub__(self, other):\n",
    "        return self.pay - other.pay\n",
    "    def __str__(self):\n",
    "        return '{} - {}'.format(self.fullname(), self.payin())\n",
    "    def __repr__(self):\n",
    "        return __class__.__name__+\" ('{}', '{}', '{}')\".format(self.firstname, self.familyname, self.pay)\n",
    "    @property                                                            # we use property decorator for change def to attribute\n",
    "    def fullname(self):\n",
    "        return '{} {}'.format(self.firstname, self.familyname)\n",
    "    @property                                                            # we use property decorator for change def to attribute\n",
    "    def mail(self):                                                            \n",
    "        return '{}.{}@company.com'.format(self.firstname, self.familyname)\n",
    "    def payin(self):\n",
    "        self.pay = int(self.pay * self.pay_ra)\n",
    "        return self.pay \n",
    "\n",
    "\n",
    "class developer(emplo, payment):\n",
    "    def __init__(self, firstname, familyname, pay, prog_lang, overtime):\n",
    "        emplo.__init__(self, firstname, familyname, pay)\n",
    "        self.prog_lang = prog_lang\n",
    "        self.overtime = overtime\n",
    "    def earning(self):\n",
    "        return self.pay + 1.4 *(self.overtime)\n",
    "\n",
    "class manager(emplo, payment):\n",
    "    def __init__(self, first, last, pay, overtime,  employees = None):\n",
    "        self.overtime = overtime\n",
    "        super(manager, self).__init__(first, last, pay)\n",
    "        if employees is None:\n",
    "            self.employees = []\n",
    "        else :\n",
    "            self.employees = employees\n",
    "    def earning(self):\n",
    "        return self.pay + 2 *(self.overtime) \n",
    "    def add_emps(self, emp):\n",
    "        if emp not in self.employees:\n",
    "            self.employees.append(emp)\n",
    "    def remove_emp(self, emp):\n",
    "        if emp in self.employees:\n",
    "            self.employees.remove(emp)\n",
    "    def print_emps(self):\n",
    "        for emp in self.employees:\n",
    "            print(\"--\", emp.fullname())\n",
    "\n",
    "\n",
    "\n",
    "emp = emplo(\"hamid\", \"najafi\", 2000)\n",
    "emp.firstname  = \"ali\"\n",
    "print(emp.firstname)\n",
    "print(emp.mail)\n",
    "print(emp.fullname())\n",
    "# we use property decorator for change mail and fullname def to attribute like firstname"
   ]
  },
  {
   "cell_type": "code",
   "execution_count": null,
   "metadata": {},
   "outputs": [
    {
     "ename": "AttributeError",
     "evalue": "property 'fullname' of 'emplo' object has no setter",
     "output_type": "error",
     "traceback": [
      "\u001b[1;31m---------------------------------------------------------------------------\u001b[0m",
      "\u001b[1;31mAttributeError\u001b[0m                            Traceback (most recent call last)",
      "Cell \u001b[1;32mIn[9], line 69\u001b[0m\n\u001b[0;32m     64\u001b[0m             \u001b[38;5;28mprint\u001b[39m(\u001b[38;5;124m\"\u001b[39m\u001b[38;5;124m--\u001b[39m\u001b[38;5;124m\"\u001b[39m, emp\u001b[38;5;241m.\u001b[39mfullname())\n\u001b[0;32m     68\u001b[0m emp \u001b[38;5;241m=\u001b[39m emplo(\u001b[38;5;124m\"\u001b[39m\u001b[38;5;124mhamid\u001b[39m\u001b[38;5;124m\"\u001b[39m, \u001b[38;5;124m\"\u001b[39m\u001b[38;5;124mnajafi\u001b[39m\u001b[38;5;124m\"\u001b[39m, \u001b[38;5;241m2000\u001b[39m)\n\u001b[1;32m---> 69\u001b[0m \u001b[43memp\u001b[49m\u001b[38;5;241;43m.\u001b[39;49m\u001b[43mfullname\u001b[49m  \u001b[38;5;241m=\u001b[39m \u001b[38;5;124m\"\u001b[39m\u001b[38;5;124mahmad moradi\u001b[39m\u001b[38;5;124m\"\u001b[39m\n\u001b[0;32m     70\u001b[0m \u001b[38;5;28mprint\u001b[39m(emp\u001b[38;5;241m.\u001b[39mfirstname)\n\u001b[0;32m     71\u001b[0m \u001b[38;5;28mprint\u001b[39m(emp\u001b[38;5;241m.\u001b[39mmail)\n",
      "\u001b[1;31mAttributeError\u001b[0m: property 'fullname' of 'emplo' object has no setter"
     ]
    }
   ],
   "source": [
    "# improve example\n",
    "\n",
    "from abc import ABC, abstractmethod\n",
    "\n",
    "class payment(ABC):\n",
    "    @abstractmethod\n",
    "    def earning(self):\n",
    "        pass\n",
    "\n",
    "class emplo:\n",
    "    pay_ra = 2\n",
    "    def __init__(self, firstname, familyname, pay):\n",
    "        self.firstname = firstname\n",
    "        self.familyname = familyname\n",
    "        self.pay = pay\n",
    "        __init__ = 10\n",
    "    def __len__(self):\n",
    "        return len(self.fullname())\n",
    "    def __add__(self, other):\n",
    "        return self.pay + other.pay\n",
    "    def __sub__(self, other):\n",
    "        return self.pay - other.pay\n",
    "    def __str__(self):\n",
    "        return '{} - {}'.format(self.fullname(), self.payin())\n",
    "    def __repr__(self):\n",
    "        return __class__.__name__+\" ('{}', '{}', '{}')\".format(self.firstname, self.familyname, self.pay)\n",
    "    @property                                                        \n",
    "    def fullname(self):\n",
    "        return '{} {}'.format(self.firstname, self.familyname)\n",
    "    @property                                                    \n",
    "    def mail(self):                                                            \n",
    "        return '{}.{}@company.com'.format(self.firstname, self.familyname)\n",
    "    def payin(self):\n",
    "        self.pay = int(self.pay * self.pay_ra)\n",
    "        return self.pay \n",
    "\n",
    "\n",
    "class developer(emplo, payment):\n",
    "    def __init__(self, firstname, familyname, pay, prog_lang, overtime):\n",
    "        emplo.__init__(self, firstname, familyname, pay)\n",
    "        self.prog_lang = prog_lang\n",
    "        self.overtime = overtime\n",
    "    def earning(self):\n",
    "        return self.pay + 1.4 *(self.overtime)\n",
    "\n",
    "class manager(emplo, payment):\n",
    "    def __init__(self, first, last, pay, overtime,  employees = None):\n",
    "        self.overtime = overtime\n",
    "        super(manager, self).__init__(first, last, pay)\n",
    "        if employees is None:\n",
    "            self.employees = []\n",
    "        else :\n",
    "            self.employees = employees\n",
    "    def earning(self):\n",
    "        return self.pay + 2 *(self.overtime) \n",
    "    def add_emps(self, emp):\n",
    "        if emp not in self.employees:\n",
    "            self.employees.append(emp)\n",
    "    def remove_emp(self, emp):\n",
    "        if emp in self.employees:\n",
    "            self.employees.remove(emp)\n",
    "    def print_emps(self):\n",
    "        for emp in self.employees:\n",
    "            print(\"--\", emp.fullname())\n",
    "\n",
    "\n",
    "\n",
    "emp = emplo(\"hamid\", \"najafi\", 2000)\n",
    "emp.fullname  = \"ahmad moradi\"\n",
    "print(emp.firstname)\n",
    "print(emp.mail)\n",
    "print(emp.fullname())\n",
    "# now we have problem in this"
   ]
  },
  {
   "cell_type": "code",
   "execution_count": null,
   "metadata": {},
   "outputs": [
    {
     "name": "stdout",
     "output_type": "stream",
     "text": [
      "ahmad\n",
      "ahmad.moradi@company.com\n",
      "ahmad moradi\n"
     ]
    }
   ],
   "source": [
    "# improve example\n",
    "\n",
    "from abc import ABC, abstractmethod\n",
    "\n",
    "class payment(ABC):\n",
    "    @abstractmethod\n",
    "    def earning(self):\n",
    "        pass\n",
    "\n",
    "class emplo:\n",
    "    pay_ra = 2\n",
    "    def __init__(self, firstname, familyname, pay):\n",
    "        self.firstname = firstname\n",
    "        self.familyname = familyname\n",
    "        self.pay = pay\n",
    "        __init__ = 10\n",
    "    def __len__(self):\n",
    "        return len(self.fullname())\n",
    "    def __add__(self, other):\n",
    "        return self.pay + other.pay\n",
    "    def __sub__(self, other):\n",
    "        return self.pay - other.pay\n",
    "    def __str__(self):\n",
    "        return '{} - {}'.format(self.fullname(), self.payin())\n",
    "    def __repr__(self):\n",
    "        return __class__.__name__+\" ('{}', '{}', '{}')\".format(self.firstname, self.familyname, self.pay)\n",
    "    @property                                                        \n",
    "    def fullname(self):\n",
    "        return '{} {}'.format(self.firstname, self.familyname)\n",
    "    @fullname.setter                                                     # we use this decorator\n",
    "    def fullname(self, name):\n",
    "        first, last = name.split(' ')\n",
    "        self.firstname = first\n",
    "        self.familyname = last\n",
    "    @property                                                    \n",
    "    def mail(self):                                                            \n",
    "        return '{}.{}@company.com'.format(self.firstname, self.familyname)\n",
    "    def payin(self):\n",
    "        self.pay = int(self.pay * self.pay_ra)\n",
    "        return self.pay \n",
    "\n",
    "\n",
    "class developer(emplo, payment):\n",
    "    def __init__(self, firstname, familyname, pay, prog_lang, overtime):\n",
    "        emplo.__init__(self, firstname, familyname, pay)\n",
    "        self.prog_lang = prog_lang\n",
    "        self.overtime = overtime\n",
    "    def earning(self):\n",
    "        return self.pay + 1.4 *(self.overtime)\n",
    "\n",
    "class manager(emplo, payment):\n",
    "    def __init__(self, first, last, pay, overtime,  employees = None):\n",
    "        self.overtime = overtime\n",
    "        super(manager, self).__init__(first, last, pay)\n",
    "        if employees is None:\n",
    "            self.employees = []\n",
    "        else :\n",
    "            self.employees = employees\n",
    "    def earning(self):\n",
    "        return self.pay + 2 *(self.overtime) \n",
    "    def add_emps(self, emp):\n",
    "        if emp not in self.employees:\n",
    "            self.employees.append(emp)\n",
    "    def remove_emp(self, emp):\n",
    "        if emp in self.employees:\n",
    "            self.employees.remove(emp)\n",
    "    def print_emps(self):\n",
    "        for emp in self.employees:\n",
    "            print(\"--\", emp.fullname())\n",
    "\n",
    "\n",
    "\n",
    "emp = emplo(\"hamid\", \"najafi\", 2000)\n",
    "emp.fullname  = \"ahmad moradi\"\n",
    "print(emp.firstname)\n",
    "print(emp.mail)\n",
    "print(emp.fullname)"
   ]
  },
  {
   "cell_type": "code",
   "execution_count": 17,
   "metadata": {},
   "outputs": [
    {
     "name": "stdout",
     "output_type": "stream",
     "text": [
      "ahmad\n",
      "ahmad.moradi@company.com\n",
      "ahmad moradi\n",
      "the name is deleted\n",
      "None\n",
      "None.None@company.com\n",
      "None None\n"
     ]
    }
   ],
   "source": [
    "# improve example\n",
    "\n",
    "from abc import ABC, abstractmethod\n",
    "\n",
    "class payment(ABC):\n",
    "    @abstractmethod\n",
    "    def earning(self):\n",
    "        pass\n",
    "\n",
    "class emplo:\n",
    "    pay_ra = 2\n",
    "    def __init__(self, firstname, familyname, pay):\n",
    "        self.firstname = firstname\n",
    "        self.familyname = familyname\n",
    "        self.pay = pay\n",
    "        __init__ = 10\n",
    "    def __len__(self):\n",
    "        return len(self.fullname())\n",
    "    def __add__(self, other):\n",
    "        return self.pay + other.pay\n",
    "    def __sub__(self, other):\n",
    "        return self.pay - other.pay\n",
    "    def __str__(self):\n",
    "        return '{} - {}'.format(self.fullname(), self.payin())\n",
    "    def __repr__(self):\n",
    "        return __class__.__name__+\" ('{}', '{}', '{}')\".format(self.firstname, self.familyname, self.pay)\n",
    "    @property                                                        \n",
    "    def fullname(self):\n",
    "        return '{} {}'.format(self.firstname, self.familyname)\n",
    "    @fullname.setter\n",
    "    def fullname(self, name):\n",
    "        first, last = name.split(' ')\n",
    "        self.firstname = first\n",
    "        self.familyname = last\n",
    "    @fullname.deleter\n",
    "    def fullname(self):\n",
    "        print(\"the name is deleted\")\n",
    "        self.firstname = None\n",
    "        self.familyname = None\n",
    "    @property                                                    \n",
    "    def mail(self):                                                            \n",
    "        return '{}.{}@company.com'.format(self.firstname, self.familyname)\n",
    "    def payin(self):\n",
    "        self.pay = int(self.pay * self.pay_ra)\n",
    "        return self.pay \n",
    "\n",
    "\n",
    "class developer(emplo, payment):\n",
    "    def __init__(self, firstname, familyname, pay, prog_lang, overtime):\n",
    "        emplo.__init__(self, firstname, familyname, pay)\n",
    "        self.prog_lang = prog_lang\n",
    "        self.overtime = overtime\n",
    "    def earning(self):\n",
    "        return self.pay + 1.4 *(self.overtime)\n",
    "\n",
    "class manager(emplo, payment):\n",
    "    def __init__(self, first, last, pay, overtime,  employees = None):\n",
    "        self.overtime = overtime\n",
    "        super(manager, self).__init__(first, last, pay)\n",
    "        if employees is None:\n",
    "            self.employees = []\n",
    "        else :\n",
    "            self.employees = employees\n",
    "    def earning(self):\n",
    "        return self.pay + 2 *(self.overtime) \n",
    "    def add_emps(self, emp):\n",
    "        if emp not in self.employees:\n",
    "            self.employees.append(emp)\n",
    "    def remove_emp(self, emp):\n",
    "        if emp in self.employees:\n",
    "            self.employees.remove(emp)\n",
    "    def print_emps(self):\n",
    "        for emp in self.employees:\n",
    "            print(\"--\", emp.fullname())\n",
    "\n",
    "\n",
    "\n",
    "emp = emplo(\"hamid\", \"najafi\", 2000)\n",
    "emp.fullname  = \"ahmad moradi\"\n",
    "print(emp.firstname)\n",
    "print(emp.mail)\n",
    "print(emp.fullname)\n",
    "\n",
    "del emp.fullname\n",
    "print(emp.firstname)\n",
    "print(emp.mail)\n",
    "print(emp.fullname)"
   ]
  },
  {
   "cell_type": "markdown",
   "metadata": {},
   "source": [
    "### linked list"
   ]
  },
  {
   "cell_type": "code",
   "execution_count": null,
   "metadata": {},
   "outputs": [
    {
     "name": "stdout",
     "output_type": "stream",
     "text": [
      "1\n",
      "2\n",
      "4\n",
      "3\n"
     ]
    }
   ],
   "source": [
    "class Node:\n",
    "    def __init__(self, data):\n",
    "        self.data = data\n",
    "        self.next = None\n",
    "\n",
    "class linkedlist:\n",
    "    def __init__(self):\n",
    "        self.head = None\n",
    "\n",
    "    def insert_first(self, new_data):\n",
    "        new_node = Node(new_data)\n",
    "        new_node.next = self.head\n",
    "        self.head = new_node\n",
    "\n",
    "    def insert_last(self, new_data):\n",
    "        new_node = Node(new_data)\n",
    "        if self.head is None:\n",
    "            self.head = new_node\n",
    "            return\n",
    "        tmp = self.head\n",
    "        while tmp.next:\n",
    "            tmp = tmp.next\n",
    "        tmp.next = new_node\n",
    "\n",
    "    def insert_optional(self, prev_node, new_data):\n",
    "        if prev_node is None:\n",
    "            print(\"hey, your node must be a node at the linkedlist\")\n",
    "            return\n",
    "        new_node = Node(new_data)\n",
    "        new_node.next = prev_node.next\n",
    "        prev_node.next = new_node\n",
    "\n",
    "    def travers(self):\n",
    "        tmp = self.head\n",
    "        while tmp:\n",
    "            print(tmp.data)\n",
    "            tmp = tmp.next\n",
    "\n",
    "# استفاده از کلاس\n",
    "my_linkedlist = linkedlist()\n",
    "my_linkedlist.head = Node(1)\n",
    "second_node = Node(2)\n",
    "third_node = Node(3)\n",
    "\n",
    "# اتصال گره‌ها به یکدیگر\n",
    "my_linkedlist.head.next = second_node\n",
    "second_node.next = third_node\n",
    "\n",
    "# اضافه کردن گره جدید بعد از گره دوم\n",
    "my_linkedlist.insert_optional(second_node, 4)\n",
    "\n",
    "# پیمایش و چاپ داده‌ها\n",
    "my_linkedlist.travers()\n"
   ]
  },
  {
   "cell_type": "markdown",
   "metadata": {},
   "source": [
    "### Queue"
   ]
  },
  {
   "cell_type": "code",
   "execution_count": 3,
   "metadata": {},
   "outputs": [
    {
     "name": "stdout",
     "output_type": "stream",
     "text": [
      "10 30\n",
      "20 30\n"
     ]
    }
   ],
   "source": [
    "class Node:\n",
    "    def __init__(self, data):\n",
    "        self.data = data\n",
    "        self.next = None\n",
    "class Queue:\n",
    "    def __init__(self):\n",
    "        self.front = self.rear = None\n",
    "    def is_Empty(self):\n",
    "        return self.front == None\n",
    "    def Enqueue(self, data):\n",
    "        new_node = Node(data)\n",
    "        if self.front == None:\n",
    "            self.front = self.rear = new_node\n",
    "            return\n",
    "        self.rear.next = new_node\n",
    "        self.rear = new_node\n",
    "    def Dequeue(self):\n",
    "        if self.is_Empty():\n",
    "            print(\"The Queue is Empty\")\n",
    "            return\n",
    "        tmp = self.front\n",
    "        self.front = tmp.next\n",
    "        if self.front == None:\n",
    "            self.rear = None\n",
    "\n",
    "q = Queue()\n",
    "q.Enqueue(10)\n",
    "q.Enqueue(20)\n",
    "q.Enqueue(30)\n",
    "print(str(q.front.data) , str(q.rear.data))\n",
    "\n",
    "q.Dequeue()\n",
    "print(str(q.front.data) , str(q.rear.data))"
   ]
  },
  {
   "cell_type": "code",
   "execution_count": null,
   "metadata": {},
   "outputs": [
    {
     "name": "stdout",
     "output_type": "stream",
     "text": [
      "[1, 2, 3]\n",
      "[3]\n"
     ]
    }
   ],
   "source": [
    "# list is like queue\n",
    "\n",
    "my_list = []\n",
    "my_list.append(1)\n",
    "my_list.append(2)\n",
    "my_list.append(3)\n",
    "\n",
    "print(my_list)\n",
    "my_list.pop(0)\n",
    "my_list.pop(0)\n",
    "print(my_list)"
   ]
  },
  {
   "cell_type": "code",
   "execution_count": null,
   "metadata": {},
   "outputs": [
    {
     "name": "stdout",
     "output_type": "stream",
     "text": [
      "True\n",
      "b\n",
      "1\n",
      "2\n",
      "3\n",
      "True\n"
     ]
    }
   ],
   "source": [
    "# simulator for Queue\n",
    "\n",
    "from queue import Queue\n",
    "\n",
    "q = Queue(maxsize=4) # maximum size\n",
    "q.put('b')\n",
    "q.put(1)\n",
    "q.put(2)\n",
    "q.put(3)\n",
    "\n",
    "print(q.full())\n",
    "print(q.get())\n",
    "print(q.get())\n",
    "print(q.get())\n",
    "print(q.get())\n",
    "print(q.empty())"
   ]
  },
  {
   "cell_type": "code",
   "execution_count": null,
   "metadata": {},
   "outputs": [
    {
     "name": "stdout",
     "output_type": "stream",
     "text": [
      "deque([10, 20, 30])\n",
      "deque([])\n"
     ]
    }
   ],
   "source": [
    "# simulator for Queue\n",
    "\n",
    "from collections import deque\n",
    "\n",
    "q = deque()\n",
    "q.append(10)\n",
    "q.append(20)\n",
    "q.append(30)\n",
    "print(q)\n",
    "\n",
    "q.popleft()\n",
    "q.popleft()\n",
    "q.popleft()\n",
    "print(q)"
   ]
  },
  {
   "cell_type": "markdown",
   "metadata": {},
   "source": [
    "### Stacks"
   ]
  },
  {
   "cell_type": "code",
   "execution_count": 4,
   "metadata": {},
   "outputs": [
    {
     "name": "stdout",
     "output_type": "stream",
     "text": [
      "my stack is : ['hamid', 'ali', '3']\n",
      "my stack is : ['hamid', 'ali']\n"
     ]
    }
   ],
   "source": [
    "# stack with list\n",
    "\n",
    "mystack = []\n",
    "mystack.append(\"hamid\")\n",
    "mystack.append(\"ali\")\n",
    "mystack.append(\"3\")\n",
    "print(\"my stack is :\", mystack)\n",
    "\n",
    "mystack.pop()\n",
    "print(\"my stack is :\", mystack)"
   ]
  },
  {
   "cell_type": "code",
   "execution_count": null,
   "metadata": {},
   "outputs": [
    {
     "name": "stdout",
     "output_type": "stream",
     "text": [
      "my stack is : deque(['hamid', 'ali', '3'])\n",
      "my stack is : deque(['hamid', 'ali'])\n"
     ]
    }
   ],
   "source": [
    "# stadck with collections.deque\n",
    "\n",
    "from collections import deque\n",
    "\n",
    "my_stack = deque()\n",
    "my_stack.append(\"hamid\")\n",
    "my_stack.append(\"ali\")\n",
    "my_stack.append(\"3\")\n",
    "print(\"my stack is :\", my_stack)\n",
    "\n",
    "my_stack.pop()\n",
    "print(\"my stack is :\", my_stack)"
   ]
  },
  {
   "cell_type": "code",
   "execution_count": null,
   "metadata": {},
   "outputs": [
    {
     "name": "stdout",
     "output_type": "stream",
     "text": [
      "my lifo stack is : 3\n",
      "my lifo stack is : ali\n",
      "my lifo stack is : hamid\n"
     ]
    }
   ],
   "source": [
    "# stack with queue.LifoQueue\n",
    "\n",
    "from queue import LifoQueue\n",
    "\n",
    "mystack_lifo = LifoQueue()\n",
    "mystack_lifo.put(\"hamid\")\n",
    "mystack_lifo.put(\"ali\")\n",
    "mystack_lifo.put(\"3\")\n",
    "print(\"my lifo stack is :\", mystack_lifo.get())\n",
    "print(\"my lifo stack is :\", mystack_lifo.get())\n",
    "print(\"my lifo stack is :\", mystack_lifo.get())"
   ]
  },
  {
   "cell_type": "markdown",
   "metadata": {},
   "source": [
    "### Hanoi Tower"
   ]
  },
  {
   "cell_type": "code",
   "execution_count": 3,
   "metadata": {},
   "outputs": [
    {
     "name": "stdout",
     "output_type": "stream",
     "text": [
      "Move disk 1 from source a to destination b\n",
      "Move disk 2 from source a to destination c\n",
      "Move disk 1 from source b to destination c\n",
      "Move disk 3 from source a to destination b\n",
      "Move disk 1 from source c to destination a\n",
      "Move disk 2 from source c to destination b\n",
      "Move disk 1 from source a to destination b\n",
      "Move disk 4 from source a to destination c\n",
      "Move disk 1 from source b to destination c\n",
      "Move disk 2 from source b to destination a\n",
      "Move disk 1 from source c to destination a\n",
      "Move disk 3 from source b to destination c\n",
      "Move disk 1 from source a to destination b\n",
      "Move disk 2 from source a to destination c\n",
      "Move disk 1 from source b to destination c\n"
     ]
    }
   ],
   "source": [
    "def Hanoi_Tower(n, source, dest, aux): \n",
    "    if n==1 :\n",
    "        print(\"Move disk 1 from source\", source, \"to destination\", dest)\n",
    "        return\n",
    "    Hanoi_Tower(n-1, source, aux, dest)\n",
    "    print(\"Move disk\", n , \"from source\", source , \"to destination\", dest)\n",
    "    Hanoi_Tower(n-1, aux, dest, source)\n",
    "\n",
    "Hanoi_Tower(4, \"a\", \"c\", \"b\") \n",
    "\n",
    "# n is the disks"
   ]
  }
 ],
 "metadata": {
  "kernelspec": {
   "display_name": "Python 3",
   "language": "python",
   "name": "python3"
  },
  "language_info": {
   "codemirror_mode": {
    "name": "ipython",
    "version": 3
   },
   "file_extension": ".py",
   "mimetype": "text/x-python",
   "name": "python",
   "nbconvert_exporter": "python",
   "pygments_lexer": "ipython3",
   "version": "3.13.4"
  }
 },
 "nbformat": 4,
 "nbformat_minor": 2
}
